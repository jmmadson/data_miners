{
 "cells": [
  {
   "cell_type": "markdown",
   "id": "f8b776df",
   "metadata": {},
   "source": [
    "## Project Note: \n",
    "\n",
    "While we cleaned and transformed our csv files using Pandas and Python in this Notebook, we ultimatedly decided not to use this method for our project, as it was more efficient to do the data transformation in SQL and PGAdmin. \n",
    "\n",
    "We are including this file in our repositiory as an example for how the data transformation could be done with Pandas and Python, since the work was already completed. \n",
    "\n",
    "As the original files have been cleaned via SQL - this code below will no longer run without errors (the columns to be dropped don't exist, etc..) "
   ]
  },
  {
   "cell_type": "code",
   "execution_count": null,
   "id": "9987036e",
   "metadata": {},
   "outputs": [],
   "source": [
    "# Import Dependancies\n",
    "import pandas as pd\n",
    "import numpy as np\n"
   ]
  },
  {
   "cell_type": "markdown",
   "id": "e2e3c83b",
   "metadata": {},
   "source": [
    "## Median Income Data Transform"
   ]
  },
  {
   "cell_type": "code",
   "execution_count": null,
   "id": "34ddc803",
   "metadata": {},
   "outputs": [],
   "source": [
    "# Load In Median Income Datafile\n",
    "file_to_load = \"resources/Census_2019_MedianIncome.csv\""
   ]
  },
  {
   "cell_type": "code",
   "execution_count": null,
   "id": "0c61b4e7",
   "metadata": {},
   "outputs": [],
   "source": [
    "# Save Median Income file as dataframe\n",
    "medianIncome_df = pd.io.parsers.read_csv(file_to_load, dtype={'Zip Code': 'str'})\n",
    "medianIncome_df.head()"
   ]
  },
  {
   "cell_type": "code",
   "execution_count": null,
   "id": "9767e8c1",
   "metadata": {},
   "outputs": [],
   "source": [
    "# Dropping Columns Not Needed\n",
    "medianIncome_clean_df = medianIncome_df.drop(['Estimate Households Total Less than $10,000',\n",
    "       'Margin of Error Households Total Less than $10,000',\n",
    "       'Estimate Households Total $10,000 to $14,999',\n",
    "       'Margin of Error Households Total $10,000 to $14,999',\n",
    "       'Estimate Households Total $15,000 to $24,999',\n",
    "       'Margin of Error Households Total $15,000 to $24,999',\n",
    "       'Estimate Households Total $25,000 to $34,999',\n",
    "       'Margin of Error Households Total $25,000 to $34,999',\n",
    "       'Estimate Households Total $35,000 to $49,999',\n",
    "       'Margin of Error Households Total $35,000 to $49,999',\n",
    "       'Estimate Households Total $50,000 to $74,999',\n",
    "       'Margin of Error Households Total $50,000 to $74,999',\n",
    "       'Estimate Households Total $75,000 to $99,999',\n",
    "       'Margin of Error Households Total $75,000 to $99,999',\n",
    "       'Estimate Households Total $100,000 to $149,999',\n",
    "       'Margin of Error Households Total $100,000 to $149,999',\n",
    "       'Estimate Households Total $150,000 to $199,999',\n",
    "       'Margin of Error Households Total $150,000 to $199,999',\n",
    "       'Estimate Households Total $200,000 or more',\n",
    "       'Margin of Error Households Total $200,000 or more',\n",
    "      ], axis=1)"
   ]
  },
  {
   "cell_type": "code",
   "execution_count": null,
   "id": "63edd9e6",
   "metadata": {},
   "outputs": [],
   "source": [
    "# Renaming Columns Needed\n",
    "medianIncome_df = medianIncome_clean_df.rename(columns={\"Zip Code\": \"Zip_Code\", \"Total Households\": \"Total_Households\", \"Margin of Error Households Total\": \"Total_Households_Margin_Error\", \"Estimate Households Median income (dollars)\":\"Median_Households_Estimate_Income\", \"Margin of Error Households Median income (dollars)\":\"Median_Households_Margin_Error\", \"Estimate Households Mean income (dollars)\":\"Mean_Households_Estimate_Income\", \"Margin of Error Households Mean income (dollars)\":\"Mean_Households_Margin_Error\"}, errors=\"raise\")\n",
    "medianIncome_df.head()"
   ]
  },
  {
   "cell_type": "code",
   "execution_count": null,
   "id": "fb4c4ade",
   "metadata": {},
   "outputs": [],
   "source": [
    "# Writing File to CSV\n",
    "medianIncome_df.to_csv(\"/Users/jennifermadson/Desktop/Data-Analytics-BootCamp/School-Projects/data_miners/resources/medianIncome.csv\", index=False)"
   ]
  },
  {
   "cell_type": "markdown",
   "id": "827ef1d3",
   "metadata": {},
   "source": [
    "## Zip County Data Transform"
   ]
  },
  {
   "cell_type": "code",
   "execution_count": null,
   "id": "c47befbb",
   "metadata": {},
   "outputs": [],
   "source": [
    "# Load In Zip County Datafile\n",
    "file_to_load_B = \"resources/ORIG_ZIP_COUNTY_FIPS_201706.csv\""
   ]
  },
  {
   "cell_type": "code",
   "execution_count": null,
   "id": "5aa7dd32",
   "metadata": {},
   "outputs": [],
   "source": [
    "# Save Zip County file as dataframe\n",
    "zipCounty_df = pd.io.parsers.read_csv(file_to_load_B, dtype={'Zip': 'str'})\n",
    "zipCounty_df.head()"
   ]
  },
  {
   "cell_type": "code",
   "execution_count": null,
   "id": "26f748e9",
   "metadata": {},
   "outputs": [],
   "source": [
    "# Dropping Columns Not Needed\n",
    "zipCounty_clean_df = zipCounty_df.drop(['CLASSFP'], axis=1)"
   ]
  },
  {
   "cell_type": "code",
   "execution_count": null,
   "id": "4a86496e",
   "metadata": {},
   "outputs": [],
   "source": [
    "# Renaming Columns Needed\n",
    "zipCounty__df = zipCounty_clean_df.rename(columns={\"ZIP\": \"Zip_Code\", \"COUNTYNAME\": \"County_Name\", \"STATE\": \"State_Code\", \"STCOUNTYFP\":\"County_Code\"}, errors=\"raise\")\n",
    "zipCounty__df.head()"
   ]
  },
  {
   "cell_type": "code",
   "execution_count": null,
   "id": "730d411e",
   "metadata": {},
   "outputs": [],
   "source": [
    "# Writing File to CSV\n",
    "zipCounty__df.to_csv(\"/Users/jennifermadson/Desktop/Data-Analytics-BootCamp/School-Projects/data_miners/resources/zipCounty.csv\", index=False)  "
   ]
  },
  {
   "cell_type": "markdown",
   "id": "da6d6e3e",
   "metadata": {},
   "source": [
    "## Electric Vehicles Data Transform"
   ]
  },
  {
   "cell_type": "code",
   "execution_count": null,
   "id": "c4d27f1e",
   "metadata": {},
   "outputs": [],
   "source": [
    "# Load In EV Datafile\n",
    "file_to_load_C = \"resources/ORIG_ev_stations_v1.csv\""
   ]
  },
  {
   "cell_type": "code",
   "execution_count": null,
   "id": "66defc2f",
   "metadata": {},
   "outputs": [],
   "source": [
    "# Save EV file as dataframe\n",
    "ev_df = pd.io.parsers.read_csv(file_to_load_C, dtype={'ZIP': 'str', 'EV Other Info': 'str'})\n",
    "ev_df.head()"
   ]
  },
  {
   "cell_type": "code",
   "execution_count": null,
   "id": "3da36aa7",
   "metadata": {},
   "outputs": [],
   "source": [
    "ev_df.columns"
   ]
  },
  {
   "cell_type": "code",
   "execution_count": null,
   "id": "630fcf85",
   "metadata": {},
   "outputs": [],
   "source": [
    "# Dropping Columns Not Needed\n",
    "ev_clean_df = ev_df.drop(['Fuel Type Code',\n",
    "       'Intersection Directions', 'Plus4', 'Station Phone', 'Expected Date',\n",
    "       'Groups With Access Code', 'Cards Accepted',\n",
    "       'BD Blends', 'NG Fill Type Code', 'NG PSI', 'EV Other Info',\n",
    "       'EV Network Web', 'Geocode Status',\n",
    "       'Date Last Confirmed', 'Updated At',\n",
    "       'Federal Agency ID', 'Federal Agency Name',\n",
    "       'Hydrogen Status Link', 'NG Vehicle Class', 'LPG Primary',\n",
    "       'E85 Blender Pump', 'EV Connector Types', 'Country',\n",
    "       'Intersection Directions (French)', 'Access Days Time (French)',\n",
    "       'BD Blends (French)', 'Groups With Access Code (French)',\n",
    "       'Hydrogen Is Retail', 'Access Detail Code',\n",
    "       'Federal Agency Code', 'CNG Dispenser Num',\n",
    "       'CNG On-Site Renewable Source', 'CNG Total Compression Capacity',\n",
    "       'CNG Storage Capacity', 'LNG On-Site Renewable Source',\n",
    "       'E85 Other Ethanol Blends', 'EV Pricing (French)',\n",
    "       'LPG Nozzle Types', 'Hydrogen Pressures', 'Hydrogen Standards',\n",
    "       'CNG Fill Type Code', 'CNG PSI', 'CNG Vehicle Class',\n",
    "       'LNG Vehicle Class', 'EV On-Site Renewable Source',\n",
    "       'Restricted Access'], axis=1)"
   ]
  },
  {
   "cell_type": "code",
   "execution_count": null,
   "id": "d22ffbc3",
   "metadata": {},
   "outputs": [],
   "source": [
    "# Renaming Columns Needed\n",
    "ev_df = ev_clean_df.rename(columns={\"Station Name\": \"Station_Name\", \"Street Address\": \"Street_Address\", \"State\": \"State_Code\", \"ZIP\":\"Zip_Code\", \"Status Code\":\"Status_Code\",\"Access Days Time\":\"Access_Days_Time\",\"EV Level1 EVSE Num\":\"EV_Level1_EVSE_Num\",\"EV Level2 EVSE Num\":\"EV_Level2_EVSE_Num\",\"EV DC Fast Count\":\"EV_DC_Fast_Count\",\"EV Network\":\"EV_Network\",\"ID\":\"EV_ID\",\"Owner Type Code\":\"Owner_Type_Code\",\"Open Date\":\"Open_Date\",\"Access Code\":\"Access_Code\",\"Facility Type\":\"Facility_Type\",\"EV Pricing\":\"Charging_Cost\",}, errors=\"raise\")\n",
    "ev_df.head()"
   ]
  },
  {
   "cell_type": "code",
   "execution_count": null,
   "id": "bb79fcfe",
   "metadata": {},
   "outputs": [],
   "source": [
    "# Checking the Shape for dropping status codes\n",
    "ev_df.shape"
   ]
  },
  {
   "cell_type": "code",
   "execution_count": null,
   "id": "631136dc",
   "metadata": {},
   "outputs": [],
   "source": [
    "# Dropping rows where Status Code is equal to P and checking the shape \n",
    "ev_df.drop(ev_df[ev_df['Status_Code'] == \"P\"].index, inplace = True)\n",
    "ev_df.shape"
   ]
  },
  {
   "cell_type": "code",
   "execution_count": null,
   "id": "2d59fdc0",
   "metadata": {},
   "outputs": [],
   "source": [
    "# Writing File to CSV\n",
    "ev__df.to_csv(\"/Users/jennifermadson/Desktop/Data-Analytics-BootCamp/School-Projects/data_miners/resources/ev.csv\", index=False)  "
   ]
  },
  {
   "cell_type": "code",
   "execution_count": null,
   "id": "3f2ddc2c",
   "metadata": {},
   "outputs": [],
   "source": []
  }
 ],
 "metadata": {
  "kernelspec": {
   "display_name": "PythonData",
   "language": "python",
   "name": "pythondata"
  },
  "language_info": {
   "codemirror_mode": {
    "name": "ipython",
    "version": 3
   },
   "file_extension": ".py",
   "mimetype": "text/x-python",
   "name": "python",
   "nbconvert_exporter": "python",
   "pygments_lexer": "ipython3",
   "version": "3.8.8"
  }
 },
 "nbformat": 4,
 "nbformat_minor": 5
}
