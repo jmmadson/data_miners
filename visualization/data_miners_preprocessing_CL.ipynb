{
 "cells": [
  {
   "cell_type": "code",
   "execution_count": 1,
   "metadata": {
    "id": "1FHW0yWp8ONF"
   },
   "outputs": [],
   "source": [
    "import pandas as pd\n",
    "\n",
    "from sklearn.preprocessing import OneHotEncoder"
   ]
  },
  {
   "cell_type": "markdown",
   "metadata": {
    "id": "rrpf--FEuCSk"
   },
   "source": [
    "# Preprocessing ev_stations data"
   ]
  },
  {
   "cell_type": "code",
   "execution_count": 2,
   "metadata": {
    "colab": {
     "base_uri": "https://localhost:8080/",
     "height": 764
    },
    "id": "XLRADd_xIw2f",
    "outputId": "a8534175-a7cf-457a-b03d-ffb7a6b91614"
   },
   "outputs": [
    {
     "data": {
      "text/html": [
       "<div>\n",
       "<style scoped>\n",
       "    .dataframe tbody tr th:only-of-type {\n",
       "        vertical-align: middle;\n",
       "    }\n",
       "\n",
       "    .dataframe tbody tr th {\n",
       "        vertical-align: top;\n",
       "    }\n",
       "\n",
       "    .dataframe thead th {\n",
       "        text-align: right;\n",
       "    }\n",
       "</style>\n",
       "<table border=\"1\" class=\"dataframe\">\n",
       "  <thead>\n",
       "    <tr style=\"text-align: right;\">\n",
       "      <th></th>\n",
       "      <th>Station_Name</th>\n",
       "      <th>Street_Address</th>\n",
       "      <th>City</th>\n",
       "      <th>State_Code</th>\n",
       "      <th>Zip_Code</th>\n",
       "      <th>Status_Code</th>\n",
       "      <th>Access_Days_Time</th>\n",
       "      <th>EV_Level1_EVSE_Num</th>\n",
       "      <th>EV_Level2_EVSE_Num</th>\n",
       "      <th>EV_DC_Fast_Count</th>\n",
       "      <th>EV_Network</th>\n",
       "      <th>Latitude</th>\n",
       "      <th>Longitude</th>\n",
       "      <th>EV_ID</th>\n",
       "      <th>Owner_Type_Code</th>\n",
       "      <th>Open_Date</th>\n",
       "      <th>Access_Code</th>\n",
       "      <th>Facility_Type</th>\n",
       "      <th>Charging_Cost</th>\n",
       "    </tr>\n",
       "  </thead>\n",
       "  <tbody>\n",
       "    <tr>\n",
       "      <th>0</th>\n",
       "      <td>LADWP - Truesdale Center</td>\n",
       "      <td>11797 Truesdale St</td>\n",
       "      <td>Sun Valley</td>\n",
       "      <td>CA</td>\n",
       "      <td>91352</td>\n",
       "      <td>E</td>\n",
       "      <td>Fleet use only</td>\n",
       "      <td>NaN</td>\n",
       "      <td>39.0</td>\n",
       "      <td>3.0</td>\n",
       "      <td>Non-Networked</td>\n",
       "      <td>34.248319</td>\n",
       "      <td>-118.387971</td>\n",
       "      <td>1517</td>\n",
       "      <td>LG</td>\n",
       "      <td>10/15/1999</td>\n",
       "      <td>private</td>\n",
       "      <td>UTILITY</td>\n",
       "      <td>NaN</td>\n",
       "    </tr>\n",
       "    <tr>\n",
       "      <th>1</th>\n",
       "      <td>LADWP - West LA District Office</td>\n",
       "      <td>1394 S Sepulveda Blvd</td>\n",
       "      <td>Los Angeles</td>\n",
       "      <td>CA</td>\n",
       "      <td>90024</td>\n",
       "      <td>E</td>\n",
       "      <td>NaN</td>\n",
       "      <td>NaN</td>\n",
       "      <td>4.0</td>\n",
       "      <td>NaN</td>\n",
       "      <td>Non-Networked</td>\n",
       "      <td>34.052542</td>\n",
       "      <td>-118.448504</td>\n",
       "      <td>1519</td>\n",
       "      <td>LG</td>\n",
       "      <td>2/28/2020</td>\n",
       "      <td>private</td>\n",
       "      <td>UTILITY</td>\n",
       "      <td>Free</td>\n",
       "    </tr>\n",
       "    <tr>\n",
       "      <th>2</th>\n",
       "      <td>Los Angeles Convention Center</td>\n",
       "      <td>1201 S Figueroa St</td>\n",
       "      <td>Los Angeles</td>\n",
       "      <td>CA</td>\n",
       "      <td>90015</td>\n",
       "      <td>E</td>\n",
       "      <td>24 hours daily; pay lot</td>\n",
       "      <td>NaN</td>\n",
       "      <td>12.0</td>\n",
       "      <td>NaN</td>\n",
       "      <td>Non-Networked</td>\n",
       "      <td>34.040539</td>\n",
       "      <td>-118.271387</td>\n",
       "      <td>1523</td>\n",
       "      <td>P</td>\n",
       "      <td>8/30/1995</td>\n",
       "      <td>public</td>\n",
       "      <td>PARKING_GARAGE</td>\n",
       "      <td>NaN</td>\n",
       "    </tr>\n",
       "    <tr>\n",
       "      <th>3</th>\n",
       "      <td>LADWP - John Ferraro Building</td>\n",
       "      <td>111 N Hope St</td>\n",
       "      <td>Los Angeles</td>\n",
       "      <td>CA</td>\n",
       "      <td>90012</td>\n",
       "      <td>E</td>\n",
       "      <td>For fleet and employee use only</td>\n",
       "      <td>NaN</td>\n",
       "      <td>311.0</td>\n",
       "      <td>2.0</td>\n",
       "      <td>Non-Networked</td>\n",
       "      <td>34.059133</td>\n",
       "      <td>-118.248589</td>\n",
       "      <td>1525</td>\n",
       "      <td>LG</td>\n",
       "      <td>10/15/1999</td>\n",
       "      <td>private</td>\n",
       "      <td>UTILITY</td>\n",
       "      <td>NaN</td>\n",
       "    </tr>\n",
       "    <tr>\n",
       "      <th>4</th>\n",
       "      <td>LADWP - Haynes Power Plant</td>\n",
       "      <td>6801 E 2nd St</td>\n",
       "      <td>Long Beach</td>\n",
       "      <td>CA</td>\n",
       "      <td>90803</td>\n",
       "      <td>E</td>\n",
       "      <td>Fleet use only</td>\n",
       "      <td>NaN</td>\n",
       "      <td>19.0</td>\n",
       "      <td>1.0</td>\n",
       "      <td>Non-Networked</td>\n",
       "      <td>33.759802</td>\n",
       "      <td>-118.096665</td>\n",
       "      <td>1531</td>\n",
       "      <td>LG</td>\n",
       "      <td>5/1/2018</td>\n",
       "      <td>private</td>\n",
       "      <td>UTILITY</td>\n",
       "      <td>NaN</td>\n",
       "    </tr>\n",
       "    <tr>\n",
       "      <th>...</th>\n",
       "      <td>...</td>\n",
       "      <td>...</td>\n",
       "      <td>...</td>\n",
       "      <td>...</td>\n",
       "      <td>...</td>\n",
       "      <td>...</td>\n",
       "      <td>...</td>\n",
       "      <td>...</td>\n",
       "      <td>...</td>\n",
       "      <td>...</td>\n",
       "      <td>...</td>\n",
       "      <td>...</td>\n",
       "      <td>...</td>\n",
       "      <td>...</td>\n",
       "      <td>...</td>\n",
       "      <td>...</td>\n",
       "      <td>...</td>\n",
       "      <td>...</td>\n",
       "      <td>...</td>\n",
       "    </tr>\n",
       "    <tr>\n",
       "      <th>50216</th>\n",
       "      <td>VIP LOT STATION1</td>\n",
       "      <td>1501 Kirkwood Meadows Dr</td>\n",
       "      <td>Markleeville</td>\n",
       "      <td>CA</td>\n",
       "      <td>96120</td>\n",
       "      <td>E</td>\n",
       "      <td>24 hours daily</td>\n",
       "      <td>NaN</td>\n",
       "      <td>2.0</td>\n",
       "      <td>NaN</td>\n",
       "      <td>ChargePoint Network</td>\n",
       "      <td>38.684660</td>\n",
       "      <td>-120.065169</td>\n",
       "      <td>204783</td>\n",
       "      <td>NaN</td>\n",
       "      <td>1/14/2022</td>\n",
       "      <td>public</td>\n",
       "      <td>NaN</td>\n",
       "      <td>NaN</td>\n",
       "    </tr>\n",
       "    <tr>\n",
       "      <th>50217</th>\n",
       "      <td>Prunedale Shopping Center</td>\n",
       "      <td>8065 San Miguel Canyon Rd</td>\n",
       "      <td>Salinas</td>\n",
       "      <td>CA</td>\n",
       "      <td>93907</td>\n",
       "      <td>E</td>\n",
       "      <td>24 hours daily</td>\n",
       "      <td>NaN</td>\n",
       "      <td>NaN</td>\n",
       "      <td>6.0</td>\n",
       "      <td>eVgo Network</td>\n",
       "      <td>36.801716</td>\n",
       "      <td>-121.664153</td>\n",
       "      <td>204784</td>\n",
       "      <td>NaN</td>\n",
       "      <td>1/14/2022</td>\n",
       "      <td>public</td>\n",
       "      <td>NaN</td>\n",
       "      <td>NaN</td>\n",
       "    </tr>\n",
       "    <tr>\n",
       "      <th>50218</th>\n",
       "      <td>Beaverton Electric Avenue</td>\n",
       "      <td>11665 SW Beaverton Hillsdale Hwy</td>\n",
       "      <td>Beaverton</td>\n",
       "      <td>OR</td>\n",
       "      <td>97005</td>\n",
       "      <td>E</td>\n",
       "      <td>24 hours daily</td>\n",
       "      <td>NaN</td>\n",
       "      <td>NaN</td>\n",
       "      <td>2.0</td>\n",
       "      <td>Greenlots</td>\n",
       "      <td>45.489030</td>\n",
       "      <td>-122.798151</td>\n",
       "      <td>204785</td>\n",
       "      <td>NaN</td>\n",
       "      <td>1/14/2022</td>\n",
       "      <td>public</td>\n",
       "      <td>NaN</td>\n",
       "      <td>NaN</td>\n",
       "    </tr>\n",
       "    <tr>\n",
       "      <th>50219</th>\n",
       "      <td>Shell - Inman</td>\n",
       "      <td>2040 Highway 292</td>\n",
       "      <td>Inman</td>\n",
       "      <td>SC</td>\n",
       "      <td>29349</td>\n",
       "      <td>E</td>\n",
       "      <td>24 hours daily</td>\n",
       "      <td>NaN</td>\n",
       "      <td>NaN</td>\n",
       "      <td>1.0</td>\n",
       "      <td>Greenlots</td>\n",
       "      <td>35.082476</td>\n",
       "      <td>-82.058433</td>\n",
       "      <td>204786</td>\n",
       "      <td>NaN</td>\n",
       "      <td>1/14/2022</td>\n",
       "      <td>public</td>\n",
       "      <td>NaN</td>\n",
       "      <td>NaN</td>\n",
       "    </tr>\n",
       "    <tr>\n",
       "      <th>50220</th>\n",
       "      <td>Westfield Trumbull (Trumbull, CT)</td>\n",
       "      <td>5065 Main Street</td>\n",
       "      <td>Trumbull</td>\n",
       "      <td>CT</td>\n",
       "      <td>6611</td>\n",
       "      <td>E</td>\n",
       "      <td>24 hours daily</td>\n",
       "      <td>NaN</td>\n",
       "      <td>NaN</td>\n",
       "      <td>4.0</td>\n",
       "      <td>Electrify America</td>\n",
       "      <td>41.228951</td>\n",
       "      <td>-73.223944</td>\n",
       "      <td>204787</td>\n",
       "      <td>NaN</td>\n",
       "      <td>1/14/2022</td>\n",
       "      <td>public</td>\n",
       "      <td>NaN</td>\n",
       "      <td>NaN</td>\n",
       "    </tr>\n",
       "  </tbody>\n",
       "</table>\n",
       "<p>50221 rows × 19 columns</p>\n",
       "</div>"
      ],
      "text/plain": [
       "                            Station_Name                    Street_Address  \\\n",
       "0               LADWP - Truesdale Center                11797 Truesdale St   \n",
       "1        LADWP - West LA District Office             1394 S Sepulveda Blvd   \n",
       "2          Los Angeles Convention Center                1201 S Figueroa St   \n",
       "3          LADWP - John Ferraro Building                     111 N Hope St   \n",
       "4             LADWP - Haynes Power Plant                     6801 E 2nd St   \n",
       "...                                  ...                               ...   \n",
       "50216                   VIP LOT STATION1          1501 Kirkwood Meadows Dr   \n",
       "50217          Prunedale Shopping Center         8065 San Miguel Canyon Rd   \n",
       "50218          Beaverton Electric Avenue  11665 SW Beaverton Hillsdale Hwy   \n",
       "50219                      Shell - Inman                  2040 Highway 292   \n",
       "50220  Westfield Trumbull (Trumbull, CT)                  5065 Main Street   \n",
       "\n",
       "               City State_Code Zip_Code Status_Code  \\\n",
       "0        Sun Valley         CA    91352           E   \n",
       "1       Los Angeles         CA    90024           E   \n",
       "2       Los Angeles         CA    90015           E   \n",
       "3       Los Angeles         CA    90012           E   \n",
       "4        Long Beach         CA    90803           E   \n",
       "...             ...        ...      ...         ...   \n",
       "50216  Markleeville         CA    96120           E   \n",
       "50217       Salinas         CA    93907           E   \n",
       "50218     Beaverton         OR    97005           E   \n",
       "50219         Inman         SC    29349           E   \n",
       "50220      Trumbull         CT     6611           E   \n",
       "\n",
       "                      Access_Days_Time  EV_Level1_EVSE_Num  \\\n",
       "0                       Fleet use only                 NaN   \n",
       "1                                  NaN                 NaN   \n",
       "2              24 hours daily; pay lot                 NaN   \n",
       "3      For fleet and employee use only                 NaN   \n",
       "4                       Fleet use only                 NaN   \n",
       "...                                ...                 ...   \n",
       "50216                   24 hours daily                 NaN   \n",
       "50217                   24 hours daily                 NaN   \n",
       "50218                   24 hours daily                 NaN   \n",
       "50219                   24 hours daily                 NaN   \n",
       "50220                   24 hours daily                 NaN   \n",
       "\n",
       "       EV_Level2_EVSE_Num  EV_DC_Fast_Count           EV_Network   Latitude  \\\n",
       "0                    39.0               3.0        Non-Networked  34.248319   \n",
       "1                     4.0               NaN        Non-Networked  34.052542   \n",
       "2                    12.0               NaN        Non-Networked  34.040539   \n",
       "3                   311.0               2.0        Non-Networked  34.059133   \n",
       "4                    19.0               1.0        Non-Networked  33.759802   \n",
       "...                   ...               ...                  ...        ...   \n",
       "50216                 2.0               NaN  ChargePoint Network  38.684660   \n",
       "50217                 NaN               6.0         eVgo Network  36.801716   \n",
       "50218                 NaN               2.0            Greenlots  45.489030   \n",
       "50219                 NaN               1.0            Greenlots  35.082476   \n",
       "50220                 NaN               4.0    Electrify America  41.228951   \n",
       "\n",
       "        Longitude   EV_ID Owner_Type_Code   Open_Date Access_Code  \\\n",
       "0     -118.387971    1517              LG  10/15/1999     private   \n",
       "1     -118.448504    1519              LG   2/28/2020     private   \n",
       "2     -118.271387    1523               P   8/30/1995      public   \n",
       "3     -118.248589    1525              LG  10/15/1999     private   \n",
       "4     -118.096665    1531              LG    5/1/2018     private   \n",
       "...           ...     ...             ...         ...         ...   \n",
       "50216 -120.065169  204783             NaN   1/14/2022      public   \n",
       "50217 -121.664153  204784             NaN   1/14/2022      public   \n",
       "50218 -122.798151  204785             NaN   1/14/2022      public   \n",
       "50219  -82.058433  204786             NaN   1/14/2022      public   \n",
       "50220  -73.223944  204787             NaN   1/14/2022      public   \n",
       "\n",
       "        Facility_Type Charging_Cost  \n",
       "0             UTILITY           NaN  \n",
       "1             UTILITY          Free  \n",
       "2      PARKING_GARAGE           NaN  \n",
       "3             UTILITY           NaN  \n",
       "4             UTILITY           NaN  \n",
       "...               ...           ...  \n",
       "50216             NaN           NaN  \n",
       "50217             NaN           NaN  \n",
       "50218             NaN           NaN  \n",
       "50219             NaN           NaN  \n",
       "50220             NaN           NaN  \n",
       "\n",
       "[50221 rows x 19 columns]"
      ]
     },
     "execution_count": 2,
     "metadata": {},
     "output_type": "execute_result"
    }
   ],
   "source": [
    "\n",
    "stations_df = pd.read_csv(r'C:\\Users\\clava\\data_miners\\resources\\TRNSFRM_ev_stations_v1.csv')\n",
    "stations_df"
   ]
  },
  {
   "cell_type": "code",
   "execution_count": 3,
   "metadata": {
    "colab": {
     "base_uri": "https://localhost:8080/",
     "height": 531
    },
    "id": "_yZUFylzkATd",
    "outputId": "c3b31397-cf83-4f0c-e1e2-59ed3b9c64d3"
   },
   "outputs": [
    {
     "ename": "AttributeError",
     "evalue": "'OneHotEncoder' object has no attribute 'get_feature_names_out'",
     "output_type": "error",
     "traceback": [
      "\u001b[1;31m---------------------------------------------------------------------------\u001b[0m",
      "\u001b[1;31mAttributeError\u001b[0m                            Traceback (most recent call last)",
      "\u001b[1;32m<ipython-input-3-53e47f040574>\u001b[0m in \u001b[0;36m<module>\u001b[1;34m\u001b[0m\n\u001b[0;32m     43\u001b[0m \u001b[0menc\u001b[0m \u001b[1;33m=\u001b[0m \u001b[0mOneHotEncoder\u001b[0m\u001b[1;33m(\u001b[0m\u001b[0msparse\u001b[0m\u001b[1;33m=\u001b[0m\u001b[1;32mFalse\u001b[0m\u001b[1;33m)\u001b[0m\u001b[1;33m\u001b[0m\u001b[1;33m\u001b[0m\u001b[0m\n\u001b[0;32m     44\u001b[0m \u001b[0mencode_df\u001b[0m \u001b[1;33m=\u001b[0m \u001b[0mpd\u001b[0m\u001b[1;33m.\u001b[0m\u001b[0mDataFrame\u001b[0m\u001b[1;33m(\u001b[0m\u001b[0menc\u001b[0m\u001b[1;33m.\u001b[0m\u001b[0mfit_transform\u001b[0m\u001b[1;33m(\u001b[0m\u001b[0mstations_df\u001b[0m\u001b[1;33m.\u001b[0m\u001b[0mNETWORK_TYPE\u001b[0m\u001b[1;33m.\u001b[0m\u001b[0mvalues\u001b[0m\u001b[1;33m.\u001b[0m\u001b[0mreshape\u001b[0m\u001b[1;33m(\u001b[0m\u001b[1;33m-\u001b[0m\u001b[1;36m1\u001b[0m\u001b[1;33m,\u001b[0m\u001b[1;36m1\u001b[0m\u001b[1;33m)\u001b[0m\u001b[1;33m)\u001b[0m\u001b[1;33m)\u001b[0m\u001b[1;33m\u001b[0m\u001b[1;33m\u001b[0m\u001b[0m\n\u001b[1;32m---> 45\u001b[1;33m \u001b[0mencode_df\u001b[0m\u001b[1;33m.\u001b[0m\u001b[0mcolumns\u001b[0m \u001b[1;33m=\u001b[0m \u001b[0menc\u001b[0m\u001b[1;33m.\u001b[0m\u001b[0mget_feature_names_out\u001b[0m\u001b[1;33m(\u001b[0m\u001b[1;33m[\u001b[0m\u001b[1;34m'NETWORK_TYPE'\u001b[0m\u001b[1;33m]\u001b[0m\u001b[1;33m)\u001b[0m\u001b[1;33m\u001b[0m\u001b[1;33m\u001b[0m\u001b[0m\n\u001b[0m\u001b[0;32m     46\u001b[0m \u001b[1;33m\u001b[0m\u001b[0m\n\u001b[0;32m     47\u001b[0m \u001b[0mstations_df\u001b[0m \u001b[1;33m=\u001b[0m \u001b[0mstations_df\u001b[0m\u001b[1;33m.\u001b[0m\u001b[0mmerge\u001b[0m\u001b[1;33m(\u001b[0m\u001b[0mencode_df\u001b[0m\u001b[1;33m,\u001b[0m \u001b[0mleft_index\u001b[0m\u001b[1;33m=\u001b[0m\u001b[1;32mTrue\u001b[0m\u001b[1;33m,\u001b[0m \u001b[0mright_index\u001b[0m\u001b[1;33m=\u001b[0m\u001b[1;32mTrue\u001b[0m\u001b[1;33m)\u001b[0m\u001b[1;33m.\u001b[0m\u001b[0mdrop\u001b[0m\u001b[1;33m(\u001b[0m\u001b[1;34m'NETWORK_TYPE'\u001b[0m\u001b[1;33m,\u001b[0m \u001b[1;36m1\u001b[0m\u001b[1;33m)\u001b[0m\u001b[1;33m\u001b[0m\u001b[1;33m\u001b[0m\u001b[0m\n",
      "\u001b[1;31mAttributeError\u001b[0m: 'OneHotEncoder' object has no attribute 'get_feature_names_out'"
     ]
    }
   ],
   "source": [
    "# Drop columns with unusable date\n",
    "stations_df = stations_df.drop(columns=['Status_Code', 'Access_Days_Time', 'EV_ID', 'Owner_Type_Code', 'Open_Date', 'Access_Code', 'Facility_Type', 'Charging_Cost'])\n",
    "\n",
    "# bin network type\n",
    "other_network = ['Volta', 'EV Connect', 'OpConnect', 'SemaCharge Network', 'Tesla Destination',\n",
    "                 'Greenlots', 'EVGATEWAY', 'POWERFLEX', 'eVgo Network', 'Webasto', 'CHARGELAB',\n",
    "                 'AMPUP', 'EVCS', 'Blink Network', 'FCN', 'Tesla', 'Electrify America', 'FLO',\n",
    "                 'FPLEV', 'ZEFNET', 'LIVINGSTON', 'Electrify Canada']\n",
    "\n",
    "for network in other_network:\n",
    "  stations_df.EV_Network = stations_df.EV_Network.replace(network, 'Other-Network')\n",
    "\n",
    "stations_df.EV_Network = stations_df.EV_Network.replace('ChargePoint Network', 'ChargePoint')\n",
    "\n",
    "# drop rows with States not used in current model\n",
    "states = ['MI', 'MN', 'NJ', 'NY', 'OR', 'TX', 'WA', 'WI']\n",
    "\n",
    "stations_df = stations_df[stations_df.State_Code.isin(states) == True]\n",
    "\n",
    "# FUTURE OPTION - Classify Charging_Cost as FREE or PAID - Need solution to classify NaNs\n",
    "# stations_df['Charging_Cost'] = stations_df['Charging_Cost'].replace(to_replace = ('Free', 'Paid'), value = ('FREE', 'PAID'))\n",
    "\n",
    "# replace NaNs in EVSE type columns\n",
    "stations_df['EV_Level1_EVSE_Num'] = stations_df['EV_Level1_EVSE_Num'].fillna(0)\n",
    "stations_df['EV_Level2_EVSE_Num'] = stations_df['EV_Level2_EVSE_Num'].fillna(0)\n",
    "stations_df['EV_DC_Fast_Count'] = stations_df['EV_DC_Fast_Count'].fillna(0)\n",
    "\n",
    "# reorder columns in table\n",
    "stations_df = stations_df[['Station_Name', 'Street_Address', 'City', 'State_Code', 'Zip_Code', 'Latitude', 'Longitude', 'EV_Level1_EVSE_Num', 'EV_Level2_EVSE_Num', 'EV_DC_Fast_Count', 'EV_Network']]\n",
    "\n",
    "# rename column names\n",
    "stations_df = stations_df.rename(columns={\n",
    "    'Zip_Code': 'ZIP_CODE',\n",
    "    'EV_Level1_EVSE_Num': 'EV_LEVEL_1',\n",
    "    'EV_Level2_EVSE_Num': 'EV_LEVEL_2',\n",
    "    'EV_DC_Fast_Count': 'EV_FAST',\n",
    "    'EV_Network': 'NETWORK_TYPE'})\n",
    "\n",
    "# drop rows with nan values\n",
    "stations_df = stations_df.dropna().reset_index(drop=True)\n",
    "\n",
    "# OneHotEncode Network Type\n",
    "enc = OneHotEncoder(sparse=False)\n",
    "encode_df = pd.DataFrame(enc.fit_transform(stations_df.NETWORK_TYPE.values.reshape(-1,1)))\n",
    "encode_df.columns = enc.get_feature_names_out(['NETWORK_TYPE'])\n",
    "\n",
    "stations_df = stations_df.merge(encode_df, left_index=True, right_index=True).drop('NETWORK_TYPE', 1)\n",
    "\n",
    "stations_df.head()"
   ]
  },
  {
   "cell_type": "markdown",
   "metadata": {
    "id": "xAGJKOEiuKhD"
   },
   "source": [
    "# Preprocessing Registration Data"
   ]
  },
  {
   "cell_type": "code",
   "execution_count": null,
   "metadata": {
    "id": "O72E2fCXuQql"
   },
   "outputs": [],
   "source": [
    "# read in CSV files\n",
    "mi = (r'C:\\Users\\clava\\data_miners\\resources\\mi_ev_registrations_public.csv')\n",
    "mn = (r'C:\\Users\\clava\\data_miners\\resources\\mn_ev_registrations_public.csv')\n",
    "nj = (r'C:\\Users\\clava\\data_miners\\resources\\nj_ev_registrations_public.csv')\n",
    "ny = (r'C:\\Users\\clava\\data_miners\\resources\\ny_ev_registrations_public.csv')\n",
    "ore = (r'C:\\Users\\clava\\data_miners\\resources\\or_ev_registrations_public.csv')\n",
    "tx = (r'C:\\Users\\clava\\data_miners\\resources\\tx_ev_registrations_public.csv')\n",
    "wa = (r'C:\\Users\\clava\\data_miners\\resources\\wa_ev_registrations_public.csv')\n",
    "wi = (r'C:\\Users\\clava\\data_miners\\resources\\wi_ev_registrations_public.csv')\n",
    "\n",
    "# function to create dataframes from csvs\n",
    "def clean_state(state):\n",
    "  state_df = pd.read_csv(state)\n",
    "\n",
    "  state_df = state_df.Zip_code.value_counts().rename_axis('ZIP_CODE').reset_index(name='REG_COUNTS')\n",
    "\n",
    "  state_df['ZIP_CODE'] = state_df['ZIP_CODE'].astype(int)\n",
    "\n",
    "  return state_df\n",
    "\n",
    "# create dataframes using clean_state function\n",
    "mi_df = clean_state(mi)\n",
    "mn_df = clean_state(mn)\n",
    "nj_df = clean_state(nj)\n",
    "ny_df = clean_state(ny)\n",
    "ore_df = clean_state(ore)\n",
    "tx_df = clean_state(tx)\n",
    "wa_df = clean_state(wa)\n",
    "wi_df = clean_state(wi)\n",
    "\n",
    "\n",
    "\n",
    "# create registration_df and set index as ZIP_CODE\n",
    "registration_df = pd.concat([mi_df,\n",
    "                             mn_df,\n",
    "                             nj_df,\n",
    "                             ore_df,\n",
    "                             tx_df,\n",
    "                             wa_df,\n",
    "                             wi_df])"
   ]
  },
  {
   "cell_type": "code",
   "execution_count": 4,
   "metadata": {},
   "outputs": [
    {
     "ename": "NameError",
     "evalue": "name 'wa_df' is not defined",
     "output_type": "error",
     "traceback": [
      "\u001b[1;31m---------------------------------------------------------------------------\u001b[0m",
      "\u001b[1;31mNameError\u001b[0m                                 Traceback (most recent call last)",
      "\u001b[1;32m<ipython-input-4-473e12e5ccb2>\u001b[0m in \u001b[0;36m<module>\u001b[1;34m\u001b[0m\n\u001b[1;32m----> 1\u001b[1;33m \u001b[0mwa_df\u001b[0m\u001b[1;33m\u001b[0m\u001b[1;33m\u001b[0m\u001b[0m\n\u001b[0m",
      "\u001b[1;31mNameError\u001b[0m: name 'wa_df' is not defined"
     ]
    }
   ],
   "source": [
    "wa_df"
   ]
  },
  {
   "cell_type": "code",
   "execution_count": null,
   "metadata": {},
   "outputs": [],
   "source": []
  },
  {
   "cell_type": "code",
   "execution_count": null,
   "metadata": {
    "colab": {
     "base_uri": "https://localhost:8080/",
     "height": 423
    },
    "id": "ib-lMFaO1ZNJ",
    "outputId": "b00a826c-d093-406c-e0c1-66e4f5f4a2e4"
   },
   "outputs": [],
   "source": [
    "registration_df"
   ]
  },
  {
   "cell_type": "markdown",
   "metadata": {
    "id": "kLXjTeFfp3g-"
   },
   "source": [
    "# Preprocessing Median Income Data"
   ]
  },
  {
   "cell_type": "code",
   "execution_count": null,
   "metadata": {
    "colab": {
     "base_uri": "https://localhost:8080/"
    },
    "id": "RZzH_CQcp_Pi",
    "outputId": "09a99e39-d1fc-4095-d9ce-1aa3bf0472bf"
   },
   "outputs": [],
   "source": [
    "median_inc = (r'C:\\Users\\clava\\data_miners\\resources\\TRNSFRM_census_median_income.csv')\n",
    "median_df = pd.read_csv(median_inc)\n",
    "median_df = median_df[median_df.MEDIAN_INCOME != '2,500-']\n",
    "median_df = median_df[median_df.MEDIAN_INCOME != '250,000+']\n",
    "median_df = median_df[median_df.MEDIAN_INCOME != '-']\n",
    "median_df['TOTAL_HOUSEHOLDS'] = median_df['TOTAL_HOUSEHOLDS'].astype(int)\n",
    "median_df['MEDIAN_INCOME'] = median_df['MEDIAN_INCOME'].astype(int)\n",
    "median_df.dtypes"
   ]
  },
  {
   "cell_type": "code",
   "execution_count": null,
   "metadata": {
    "colab": {
     "base_uri": "https://localhost:8080/",
     "height": 423
    },
    "id": "XUR9M6F-p3Jx",
    "outputId": "8272a55b-a53d-43e7-909c-6ad5d827579e"
   },
   "outputs": [],
   "source": [
    "median_df"
   ]
  },
  {
   "cell_type": "markdown",
   "metadata": {
    "id": "J4aUYOBkuRTV"
   },
   "source": [
    "# Final model Dataframe"
   ]
  },
  {
   "cell_type": "code",
   "execution_count": null,
   "metadata": {
    "colab": {
     "base_uri": "https://localhost:8080/",
     "height": 516
    },
    "id": "KhE4LKAPtBwM",
    "outputId": "33902538-d917-4639-96f8-6496ae162f6e"
   },
   "outputs": [],
   "source": [
    "# Drop location info for ml model\n",
    "model_df = stations_df.drop(columns=['Station_Name',\n",
    "                                     'Street_Address',\n",
    "                                     #'City',\n",
    "                                     'State_Code',\n",
    "                                     'Latitude',\n",
    "                                     'Longitude'])\n",
    "\n",
    "\n",
    "\n",
    "# change data types for sorting and merging\n",
    "model_df['ZIP_CODE'] = model_df['ZIP_CODE'].astype(int)\n",
    "model_df['EV_LEVEL_1'] = model_df['EV_LEVEL_1'].astype(int)\n",
    "model_df['EV_LEVEL_2'] = model_df['EV_LEVEL_2'].astype(int)\n",
    "model_df['EV_FAST'] = model_df['EV_FAST'].astype(int)\n",
    "model_df['NETWORK_TYPE_ChargePoint'] = model_df['NETWORK_TYPE_ChargePoint'].astype(int)\n",
    "model_df['NETWORK_TYPE_Non-Networked'] = model_df['NETWORK_TYPE_Non-Networked'].astype(int)\n",
    "model_df['NETWORK_TYPE_Other-Network'] = model_df['NETWORK_TYPE_Other-Network'].astype(int)\n",
    "\n",
    "# mege the data fram with median_df\n",
    "model_df = model_df.merge(median_df, how='left', on='ZIP_CODE')\n",
    "\n",
    "# merge the data frame with registration_df\n",
    "model_df = model_df.merge(registration_df, how='left', on='ZIP_CODE')\n",
    "\n",
    "# fill nans with zero\n",
    "model_df['REG_COUNTS'] = model_df['REG_COUNTS'].fillna(0)\n",
    "\n",
    "model_df = model_df.dropna(how='all')\n",
    "\n",
    "# change data type for sorting and merging\n",
    "model_df['REG_COUNTS'] = model_df['REG_COUNTS'].astype(int)\n",
    "\n",
    "\n",
    "\n",
    "model_df"
   ]
  },
  {
   "cell_type": "code",
   "execution_count": null,
   "metadata": {},
   "outputs": [],
   "source": [
    "model_df.to_csv('viz_df_citystate.csv')"
   ]
  },
  {
   "cell_type": "code",
   "execution_count": null,
   "metadata": {},
   "outputs": [],
   "source": [
    "model_df\n"
   ]
  },
  {
   "cell_type": "code",
   "execution_count": null,
   "metadata": {},
   "outputs": [],
   "source": [
    "# count each level type by zip code\n",
    "model_df = model_df.groupby(['ZIP_CODE'], as_index=False).sum()\n",
    "model_df\n",
    "\n",
    "# soft dataframe by zip code\n",
    "model_df = model_df.sort_values(by='ZIP_CODE')\n",
    "\n",
    "# change zip code to string and reformat\n",
    "model_df['ZIP_CODE'] = model_df['ZIP_CODE'].apply(lambda x: '0' + str(x) if x < 10000 else str(x)) \n",
    "\n",
    "# set ZIP_CODE as index\n",
    "model_df = model_df.set_index('ZIP_CODE')\n",
    "\n",
    "model_df = model_df.dropna(axis=0, how='any')"
   ]
  },
  {
   "cell_type": "code",
   "execution_count": null,
   "metadata": {
    "colab": {
     "base_uri": "https://localhost:8080/"
    },
    "id": "OwyQ99SopPMp",
    "outputId": "34f5439b-085e-4b0b-95de-8f577d669ac3"
   },
   "outputs": [],
   "source": [
    "model_df.dtypes"
   ]
  },
  {
   "cell_type": "code",
   "execution_count": null,
   "metadata": {
    "colab": {
     "base_uri": "https://localhost:8080/",
     "height": 516
    },
    "id": "r35vpHbiUB7b",
    "outputId": "4c5c2197-7de7-4daa-da76-7864c8d3b4e4"
   },
   "outputs": [],
   "source": [
    "model_df"
   ]
  },
  {
   "cell_type": "code",
   "execution_count": null,
   "metadata": {},
   "outputs": [],
   "source": [
    "model_df.nunique()"
   ]
  },
  {
   "cell_type": "code",
   "execution_count": null,
   "metadata": {
    "id": "d45oDjWTCd-A"
   },
   "outputs": [],
   "source": [
    "# export model_df for the ML Model predictions.\n",
    "model_df.to_csv('viz_df.csv')"
   ]
  },
  {
   "cell_type": "code",
   "execution_count": null,
   "metadata": {},
   "outputs": [],
   "source": []
  }
 ],
 "metadata": {
  "colab": {
   "collapsed_sections": [],
   "name": "data_miners_preprocessing.ipynb",
   "provenance": []
  },
  "kernelspec": {
   "display_name": "Python 3",
   "language": "python",
   "name": "python3"
  },
  "language_info": {
   "codemirror_mode": {
    "name": "ipython",
    "version": 3
   },
   "file_extension": ".py",
   "mimetype": "text/x-python",
   "name": "python",
   "nbconvert_exporter": "python",
   "pygments_lexer": "ipython3",
   "version": "3.7.10"
  }
 },
 "nbformat": 4,
 "nbformat_minor": 1
}
