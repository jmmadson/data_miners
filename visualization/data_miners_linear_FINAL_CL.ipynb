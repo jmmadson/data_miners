{
 "cells": [
  {
   "cell_type": "code",
   "execution_count": 54,
   "metadata": {
    "id": "Kqc03_XMs2D0"
   },
   "outputs": [],
   "source": [
    "# Initial imports\n",
    "import pandas as pd\n",
    "import sklearn.linear_model\n",
    "\n",
    "from sklearn.linear_model import LinearRegression\n",
    "from sklearn.preprocessing import StandardScaler\n",
    "from sklearn.model_selection import train_test_split\n",
    "\n",
    "model_data = (r'C:\\Users\\clava\\data_miners\\ML_Model\\model_df.csv')\n",
    "\n",
    "# not working with current code\n",
    "#pred_data = ('/content/for_predictions.csv')"
   ]
  },
  {
   "cell_type": "code",
   "execution_count": 55,
   "metadata": {
    "id": "zn10-tZqztKs"
   },
   "outputs": [],
   "source": [
    "# Activate functions\n",
    "\n",
    "# function to turn csv data to datafram\n",
    "def clean_set(data):\n",
    "  data_df = pd.read_csv(data)\n",
    "\n",
    "  data_df['ZIP_CODE'] = data_df['ZIP_CODE'].apply(lambda x: f'{x:05}')\n",
    "\n",
    "  # set ZIP_CODE as index\n",
    "  data_df = data_df.set_index('ZIP_CODE')\n",
    "\n",
    "  data_df['EV_TOTAL'] = data_df.iloc[:, -9:-7].sum(axis=1)\n",
    "\n",
    "  data_df = data_df[['EV_LEVEL_1', 'EV_LEVEL_2', 'EV_FAST', 'EV_TOTAL',\n",
    "               'NETWORK_TYPE_ChargePoint','NETWORK_TYPE_Non-Networked','NETWORK_TYPE_Other-Network',\n",
    "               'TOTAL_HOUSEHOLDS',\t'MEDIAN_INCOME',\n",
    "               'REG_COUNTS']]\n",
    "  \n",
    "  return data_df\n",
    "\n",
    "\n",
    "# function to get target and features\n",
    "def target_feature(dataframe):\n",
    "  y = dataframe.REG_COUNTS\n",
    "\n",
    "  X = dataframe[['EV_LEVEL_1', 'EV_LEVEL_2', 'EV_FAST', 'EV_TOTAL',\n",
    "                    'NETWORK_TYPE_ChargePoint',\t'NETWORK_TYPE_Non-Networked','NETWORK_TYPE_Other-Network',\n",
    "                    'TOTAL_HOUSEHOLDS',\t'MEDIAN_INCOME']]\n",
    "  \n",
    "  return (X,y)\n",
    "\n",
    "# function to generate predictions from dataset\n",
    "def predict(in_scaler, out_scaler, orig_df, ml_model, data_X):\n",
    "  data_scaled = in_scaler.transform(data_X)\n",
    "\n",
    "  pred_scaled = ml_model.predict(data_scaled)\n",
    "\n",
    "  pred = out_scaler.inverse_transform(pred_scaled)\n",
    "\n",
    "  pred_df = pd.DataFrame(pred, index=data_X.index, columns=['REG_PREDICT'])\n",
    "\n",
    "  pred_out_df = orig_df.merge(pred_df, how='left', on='ZIP_CODE')\n",
    "\n",
    "  return pred_out_df"
   ]
  },
  {
   "cell_type": "code",
   "execution_count": 56,
   "metadata": {
    "id": "ggdb4Lnm0aU0"
   },
   "outputs": [
    {
     "data": {
      "text/plain": [
       "1662799"
      ]
     },
     "execution_count": 56,
     "metadata": {},
     "output_type": "execute_result"
    }
   ],
   "source": [
    "model_df = clean_set(model_data)\n",
    "\n",
    "# not working with current code\n",
    "# pred_df = clean_set(pred_data)\n",
    "model_df.REG_COUNTS.sum()"
   ]
  },
  {
   "cell_type": "markdown",
   "metadata": {
    "id": "luUt9dGFvxbx"
   },
   "source": [
    "# Train-Test-Split"
   ]
  },
  {
   "cell_type": "code",
   "execution_count": 57,
   "metadata": {
    "id": "0fsxTqhN33eQ"
   },
   "outputs": [],
   "source": [
    "model_X, model_y = target_feature(model_df)\n",
    "\n",
    "# not working with current code\n",
    "# pred_X, pred_y = target_feature(pred_df)"
   ]
  },
  {
   "cell_type": "code",
   "execution_count": 58,
   "metadata": {
    "id": "VoP1QnrN4LHp"
   },
   "outputs": [],
   "source": [
    "# Split the data into training/testing sets\n",
    "X_train, X_test, y_train, y_test = train_test_split(model_X, model_y, test_size=0.33, random_state=42)"
   ]
  },
  {
   "cell_type": "markdown",
   "metadata": {
    "id": "EbG6Q27gpt5t"
   },
   "source": [
    "# Scaling"
   ]
  },
  {
   "cell_type": "code",
   "execution_count": 59,
   "metadata": {
    "id": "AAsb4Icopz4a"
   },
   "outputs": [],
   "source": [
    "input_scaler = StandardScaler()\n",
    "output_scaler = StandardScaler()\n",
    "\n",
    "X_train_scaled = input_scaler.fit_transform(X_train)\n",
    "X_test_scaled = input_scaler.transform(X_test)\n",
    "\n",
    "y_train_scaled = output_scaler.fit_transform(y_train.values.reshape(-1,1))\n",
    "y_test_scaled = output_scaler.transform(y_test.values.reshape(-1,1))"
   ]
  },
  {
   "cell_type": "markdown",
   "metadata": {
    "id": "N6b6JDwLRbqR"
   },
   "source": [
    "# Linear Regression"
   ]
  },
  {
   "cell_type": "code",
   "execution_count": 60,
   "metadata": {
    "colab": {
     "base_uri": "https://localhost:8080/"
    },
    "id": "B-PYnQjLRube",
    "outputId": "4ec58dbc-0110-44ef-b234-c4d83f7f8475"
   },
   "outputs": [
    {
     "data": {
      "text/plain": [
       "LinearRegression()"
      ]
     },
     "execution_count": 60,
     "metadata": {},
     "output_type": "execute_result"
    }
   ],
   "source": [
    "# Train the model using the training sets\n",
    "model = LinearRegression()\n",
    "model.fit(X_train_scaled, y_train_scaled)"
   ]
  },
  {
   "cell_type": "markdown",
   "metadata": {
    "id": "gmMbU208eIlL"
   },
   "source": [
    "#Export Predictions"
   ]
  },
  {
   "cell_type": "code",
   "execution_count": 61,
   "metadata": {
    "id": "uduRynYz8oO4"
   },
   "outputs": [],
   "source": [
    "model_predictions_df = predict(input_scaler, output_scaler, model_df, model, model_X)\n",
    "\n",
    "# export ev_ml_out_df for Tableau.\n",
    "model_predictions_df.to_csv('pred_out_df.csv')"
   ]
  },
  {
   "cell_type": "markdown",
   "metadata": {
    "id": "hl3SAc8XU7hD"
   },
   "source": [
    "# User Interactive"
   ]
  },
  {
   "cell_type": "code",
   "execution_count": 65,
   "metadata": {
    "colab": {
     "base_uri": "https://localhost:8080/",
     "height": 684
    },
    "id": "PQv-rWLRkSiJ",
    "outputId": "5db9196d-d27d-4d51-ba89-a7c8d568a929"
   },
   "outputs": [
    {
     "name": "stdout",
     "output_type": "stream",
     "text": [
      "\n",
      " Enter a feature from your dataset: \n",
      " EV_LEVEL_1, EV_LEVEL_2, EV_FAST, EV_TOTAL, \n",
      " NETWORK_TYPE_ChargePoint, NETWORK_TYPE_Non_Networked, NETWORK_TYPE_Other_Network, \n",
      " TOTAL_HOUSEHOLDS, MEDIAN_INCOME \n",
      "\n",
      " NETWORK_TYPE_Non-Networked\n",
      "Modify feature by what (whole number)? \n",
      "20\n"
     ]
    },
    {
     "data": {
      "text/html": [
       "<div>\n",
       "<style scoped>\n",
       "    .dataframe tbody tr th:only-of-type {\n",
       "        vertical-align: middle;\n",
       "    }\n",
       "\n",
       "    .dataframe tbody tr th {\n",
       "        vertical-align: top;\n",
       "    }\n",
       "\n",
       "    .dataframe thead th {\n",
       "        text-align: right;\n",
       "    }\n",
       "</style>\n",
       "<table border=\"1\" class=\"dataframe\">\n",
       "  <thead>\n",
       "    <tr style=\"text-align: right;\">\n",
       "      <th></th>\n",
       "      <th>EV_LEVEL_1</th>\n",
       "      <th>EV_LEVEL_2</th>\n",
       "      <th>EV_FAST</th>\n",
       "      <th>EV_TOTAL</th>\n",
       "      <th>NETWORK_TYPE_ChargePoint</th>\n",
       "      <th>NETWORK_TYPE_Non-Networked</th>\n",
       "      <th>NETWORK_TYPE_Other-Network</th>\n",
       "      <th>TOTAL_HOUSEHOLDS</th>\n",
       "      <th>MEDIAN_INCOME</th>\n",
       "      <th>REG_COUNTS</th>\n",
       "      <th>REG_PREDICT</th>\n",
       "      <th>TARGET_CHANGE</th>\n",
       "    </tr>\n",
       "    <tr>\n",
       "      <th>ZIP_CODE</th>\n",
       "      <th></th>\n",
       "      <th></th>\n",
       "      <th></th>\n",
       "      <th></th>\n",
       "      <th></th>\n",
       "      <th></th>\n",
       "      <th></th>\n",
       "      <th></th>\n",
       "      <th></th>\n",
       "      <th></th>\n",
       "      <th></th>\n",
       "      <th></th>\n",
       "    </tr>\n",
       "  </thead>\n",
       "  <tbody>\n",
       "    <tr>\n",
       "      <th>03266</th>\n",
       "      <td>0</td>\n",
       "      <td>2</td>\n",
       "      <td>0</td>\n",
       "      <td>2</td>\n",
       "      <td>0</td>\n",
       "      <td>21</td>\n",
       "      <td>0</td>\n",
       "      <td>851.0</td>\n",
       "      <td>54904.0</td>\n",
       "      <td>0</td>\n",
       "      <td>889.967305</td>\n",
       "      <td>889.967305</td>\n",
       "    </tr>\n",
       "    <tr>\n",
       "      <th>07001</th>\n",
       "      <td>0</td>\n",
       "      <td>1</td>\n",
       "      <td>0</td>\n",
       "      <td>1</td>\n",
       "      <td>0</td>\n",
       "      <td>21</td>\n",
       "      <td>0</td>\n",
       "      <td>5022.0</td>\n",
       "      <td>69849.0</td>\n",
       "      <td>173</td>\n",
       "      <td>1360.473829</td>\n",
       "      <td>1187.473829</td>\n",
       "    </tr>\n",
       "    <tr>\n",
       "      <th>07003</th>\n",
       "      <td>0</td>\n",
       "      <td>12</td>\n",
       "      <td>5</td>\n",
       "      <td>12</td>\n",
       "      <td>4</td>\n",
       "      <td>21</td>\n",
       "      <td>3</td>\n",
       "      <td>18577.0</td>\n",
       "      <td>78034.0</td>\n",
       "      <td>795</td>\n",
       "      <td>2880.869357</td>\n",
       "      <td>2085.869357</td>\n",
       "    </tr>\n",
       "    <tr>\n",
       "      <th>07004</th>\n",
       "      <td>0</td>\n",
       "      <td>6</td>\n",
       "      <td>3</td>\n",
       "      <td>6</td>\n",
       "      <td>0</td>\n",
       "      <td>21</td>\n",
       "      <td>2</td>\n",
       "      <td>2621.0</td>\n",
       "      <td>122063.0</td>\n",
       "      <td>307</td>\n",
       "      <td>2231.712171</td>\n",
       "      <td>1924.712171</td>\n",
       "    </tr>\n",
       "    <tr>\n",
       "      <th>07005</th>\n",
       "      <td>0</td>\n",
       "      <td>1</td>\n",
       "      <td>10</td>\n",
       "      <td>1</td>\n",
       "      <td>0</td>\n",
       "      <td>21</td>\n",
       "      <td>1</td>\n",
       "      <td>5489.0</td>\n",
       "      <td>111946.0</td>\n",
       "      <td>445</td>\n",
       "      <td>2176.286921</td>\n",
       "      <td>1731.286921</td>\n",
       "    </tr>\n",
       "    <tr>\n",
       "      <th>...</th>\n",
       "      <td>...</td>\n",
       "      <td>...</td>\n",
       "      <td>...</td>\n",
       "      <td>...</td>\n",
       "      <td>...</td>\n",
       "      <td>...</td>\n",
       "      <td>...</td>\n",
       "      <td>...</td>\n",
       "      <td>...</td>\n",
       "      <td>...</td>\n",
       "      <td>...</td>\n",
       "      <td>...</td>\n",
       "    </tr>\n",
       "    <tr>\n",
       "      <th>99352</th>\n",
       "      <td>0</td>\n",
       "      <td>13</td>\n",
       "      <td>3</td>\n",
       "      <td>13</td>\n",
       "      <td>1</td>\n",
       "      <td>21</td>\n",
       "      <td>4</td>\n",
       "      <td>12877.0</td>\n",
       "      <td>81410.0</td>\n",
       "      <td>3413</td>\n",
       "      <td>2392.648155</td>\n",
       "      <td>-1020.351845</td>\n",
       "    </tr>\n",
       "    <tr>\n",
       "      <th>99354</th>\n",
       "      <td>36</td>\n",
       "      <td>48</td>\n",
       "      <td>0</td>\n",
       "      <td>84</td>\n",
       "      <td>0</td>\n",
       "      <td>65</td>\n",
       "      <td>1</td>\n",
       "      <td>9175.0</td>\n",
       "      <td>73369.0</td>\n",
       "      <td>2082</td>\n",
       "      <td>2943.153453</td>\n",
       "      <td>861.153453</td>\n",
       "    </tr>\n",
       "    <tr>\n",
       "      <th>99361</th>\n",
       "      <td>0</td>\n",
       "      <td>1</td>\n",
       "      <td>0</td>\n",
       "      <td>1</td>\n",
       "      <td>0</td>\n",
       "      <td>20</td>\n",
       "      <td>1</td>\n",
       "      <td>750.0</td>\n",
       "      <td>69118.0</td>\n",
       "      <td>100</td>\n",
       "      <td>1270.121444</td>\n",
       "      <td>1170.121444</td>\n",
       "    </tr>\n",
       "    <tr>\n",
       "      <th>99362</th>\n",
       "      <td>1</td>\n",
       "      <td>27</td>\n",
       "      <td>0</td>\n",
       "      <td>28</td>\n",
       "      <td>1</td>\n",
       "      <td>23</td>\n",
       "      <td>12</td>\n",
       "      <td>15717.0</td>\n",
       "      <td>56665.0</td>\n",
       "      <td>2054</td>\n",
       "      <td>3330.717846</td>\n",
       "      <td>1276.717846</td>\n",
       "    </tr>\n",
       "    <tr>\n",
       "      <th>99403</th>\n",
       "      <td>0</td>\n",
       "      <td>2</td>\n",
       "      <td>0</td>\n",
       "      <td>2</td>\n",
       "      <td>0</td>\n",
       "      <td>20</td>\n",
       "      <td>1</td>\n",
       "      <td>8338.0</td>\n",
       "      <td>53079.0</td>\n",
       "      <td>370</td>\n",
       "      <td>1364.544731</td>\n",
       "      <td>994.544731</td>\n",
       "    </tr>\n",
       "  </tbody>\n",
       "</table>\n",
       "<p>2493 rows × 12 columns</p>\n",
       "</div>"
      ],
      "text/plain": [
       "          EV_LEVEL_1  EV_LEVEL_2  EV_FAST  EV_TOTAL  NETWORK_TYPE_ChargePoint  \\\n",
       "ZIP_CODE                                                                        \n",
       "03266              0           2        0         2                         0   \n",
       "07001              0           1        0         1                         0   \n",
       "07003              0          12        5        12                         4   \n",
       "07004              0           6        3         6                         0   \n",
       "07005              0           1       10         1                         0   \n",
       "...              ...         ...      ...       ...                       ...   \n",
       "99352              0          13        3        13                         1   \n",
       "99354             36          48        0        84                         0   \n",
       "99361              0           1        0         1                         0   \n",
       "99362              1          27        0        28                         1   \n",
       "99403              0           2        0         2                         0   \n",
       "\n",
       "          NETWORK_TYPE_Non-Networked  NETWORK_TYPE_Other-Network  \\\n",
       "ZIP_CODE                                                           \n",
       "03266                             21                           0   \n",
       "07001                             21                           0   \n",
       "07003                             21                           3   \n",
       "07004                             21                           2   \n",
       "07005                             21                           1   \n",
       "...                              ...                         ...   \n",
       "99352                             21                           4   \n",
       "99354                             65                           1   \n",
       "99361                             20                           1   \n",
       "99362                             23                          12   \n",
       "99403                             20                           1   \n",
       "\n",
       "          TOTAL_HOUSEHOLDS  MEDIAN_INCOME  REG_COUNTS  REG_PREDICT  \\\n",
       "ZIP_CODE                                                             \n",
       "03266                851.0        54904.0           0   889.967305   \n",
       "07001               5022.0        69849.0         173  1360.473829   \n",
       "07003              18577.0        78034.0         795  2880.869357   \n",
       "07004               2621.0       122063.0         307  2231.712171   \n",
       "07005               5489.0       111946.0         445  2176.286921   \n",
       "...                    ...            ...         ...          ...   \n",
       "99352              12877.0        81410.0        3413  2392.648155   \n",
       "99354               9175.0        73369.0        2082  2943.153453   \n",
       "99361                750.0        69118.0         100  1270.121444   \n",
       "99362              15717.0        56665.0        2054  3330.717846   \n",
       "99403               8338.0        53079.0         370  1364.544731   \n",
       "\n",
       "          TARGET_CHANGE  \n",
       "ZIP_CODE                 \n",
       "03266        889.967305  \n",
       "07001       1187.473829  \n",
       "07003       2085.869357  \n",
       "07004       1924.712171  \n",
       "07005       1731.286921  \n",
       "...                 ...  \n",
       "99352      -1020.351845  \n",
       "99354        861.153453  \n",
       "99361       1170.121444  \n",
       "99362       1276.717846  \n",
       "99403        994.544731  \n",
       "\n",
       "[2493 rows x 12 columns]"
      ]
     },
     "execution_count": 65,
     "metadata": {},
     "output_type": "execute_result"
    }
   ],
   "source": [
    "test_df = model_df.copy()\n",
    "\n",
    "select_feature = input(\"\\n Enter a feature from your dataset: \\n EV_LEVEL_1, EV_LEVEL_2, EV_FAST, EV_TOTAL, \\n NETWORK_TYPE_ChargePoint, NETWORK_TYPE_Non_Networked, NETWORK_TYPE_Other_Network, \\n TOTAL_HOUSEHOLDS, MEDIAN_INCOME \\n\\n \")\n",
    "\n",
    "modifier_input = input(\"Modify feature by what (whole number)? \\n\")\n",
    "\n",
    "modifier = int(modifier_input)\n",
    "\n",
    "# iterate over the dataframe row by row\n",
    "for index_label, row_series in test_df.iterrows():\n",
    "    # For each row update the 'Bonus' value to it's double\n",
    "    test_df.at[index_label , select_feature] = row_series[select_feature] + modifier\n",
    "\n",
    "pred_X, pred_y = target_feature(test_df)\n",
    "\n",
    "feature_pred_df = predict(input_scaler, output_scaler, test_df, model, pred_X)\n",
    "\n",
    "feature_pred_df['TARGET_CHANGE'] = feature_pred_df['REG_PREDICT'] - feature_pred_df['REG_COUNTS']\n",
    "\n",
    "filename = (select_feature + \"_\" + str(modifier))\n",
    "\n",
    "csv_name = \"pred_%s.csv\" % filename\n",
    "\n",
    "feature_pred_df.to_csv(csv_name)\n",
    "\n",
    "\n",
    "feature_pred_df"
   ]
  },
  {
   "cell_type": "code",
   "execution_count": null,
   "metadata": {},
   "outputs": [],
   "source": []
  },
  {
   "cell_type": "code",
   "execution_count": null,
   "metadata": {},
   "outputs": [],
   "source": []
  }
 ],
 "metadata": {
  "colab": {
   "collapsed_sections": [],
   "machine_shape": "hm",
   "name": "data_miners_linear_FINAL.ipynb",
   "provenance": []
  },
  "kernelspec": {
   "display_name": "Python 3",
   "language": "python",
   "name": "python3"
  },
  "language_info": {
   "codemirror_mode": {
    "name": "ipython",
    "version": 3
   },
   "file_extension": ".py",
   "mimetype": "text/x-python",
   "name": "python",
   "nbconvert_exporter": "python",
   "pygments_lexer": "ipython3",
   "version": "3.7.10"
  }
 },
 "nbformat": 4,
 "nbformat_minor": 1
}
