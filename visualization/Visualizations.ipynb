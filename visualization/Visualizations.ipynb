{
 "cells": [
  {
   "cell_type": "code",
   "execution_count": 115,
   "id": "cd50715e",
   "metadata": {},
   "outputs": [],
   "source": [
    "# Import Dependancies\n",
    "import pandas as pd"
   ]
  },
  {
   "cell_type": "code",
   "execution_count": 163,
   "id": "b3990b6a",
   "metadata": {},
   "outputs": [],
   "source": [
    "# Load In Median Income Datafile & EV Registrations\n",
    "file_to_load_inc = \"resources/Census_2019_MedianIncome.csv\"\n",
    "file_to_load_reg = \"resources/wi_ev_registrations_public.csv\"\n",
    "file_to_load_type = \"resources/zip_type.csv\"\n"
   ]
  },
  {
   "cell_type": "code",
   "execution_count": 165,
   "id": "08943d2f",
   "metadata": {},
   "outputs": [],
   "source": [
    "# Create Dataframes\n",
    "medianInc_df = pd.io.parsers.read_csv(file_to_load_inc, dtype={'Zip_Code': 'str'})\n",
    "ev_reg_df = pd.io.parsers.read_csv(file_to_load_reg, dtype={'Zip_Code': 'str'})\n",
    "urb_rural_df = pd.io.parsers.read_csv(file_to_load_type, dtype={'Zip_Code': 'str'})"
   ]
  },
  {
   "cell_type": "code",
   "execution_count": 118,
   "id": "52a1bda6",
   "metadata": {},
   "outputs": [
    {
     "data": {
      "text/html": [
       "<div>\n",
       "<style scoped>\n",
       "    .dataframe tbody tr th:only-of-type {\n",
       "        vertical-align: middle;\n",
       "    }\n",
       "\n",
       "    .dataframe tbody tr th {\n",
       "        vertical-align: top;\n",
       "    }\n",
       "\n",
       "    .dataframe thead th {\n",
       "        text-align: right;\n",
       "    }\n",
       "</style>\n",
       "<table border=\"1\" class=\"dataframe\">\n",
       "  <thead>\n",
       "    <tr style=\"text-align: right;\">\n",
       "      <th></th>\n",
       "      <th>DMV_ID</th>\n",
       "      <th>DMV_Snapshot_Date</th>\n",
       "      <th>Zip_code</th>\n",
       "      <th>VIN_Prefix</th>\n",
       "      <th>Registration_Valid_Date</th>\n",
       "      <th>State_Code</th>\n",
       "      <th>EV_Make_Model</th>\n",
       "    </tr>\n",
       "  </thead>\n",
       "  <tbody>\n",
       "    <tr>\n",
       "      <th>0</th>\n",
       "      <td>1</td>\n",
       "      <td>DMV Direct (6/30/2018)</td>\n",
       "      <td>30348</td>\n",
       "      <td>1FADP5FU</td>\n",
       "      <td>6/30/2018</td>\n",
       "      <td>WI</td>\n",
       "      <td>Ford C-Max Energi</td>\n",
       "    </tr>\n",
       "    <tr>\n",
       "      <th>1</th>\n",
       "      <td>1</td>\n",
       "      <td>DMV Direct (6/30/2018)</td>\n",
       "      <td>48126</td>\n",
       "      <td>1FADP5FU</td>\n",
       "      <td>6/30/2018</td>\n",
       "      <td>WI</td>\n",
       "      <td>Ford C-Max Energi</td>\n",
       "    </tr>\n",
       "    <tr>\n",
       "      <th>2</th>\n",
       "      <td>1</td>\n",
       "      <td>DMV Direct (6/30/2018)</td>\n",
       "      <td>52101</td>\n",
       "      <td>1FADP5FU</td>\n",
       "      <td>6/30/2018</td>\n",
       "      <td>WI</td>\n",
       "      <td>Ford C-Max Energi</td>\n",
       "    </tr>\n",
       "    <tr>\n",
       "      <th>3</th>\n",
       "      <td>1</td>\n",
       "      <td>DMV Direct (6/30/2018)</td>\n",
       "      <td>53005</td>\n",
       "      <td>1FADP5FU</td>\n",
       "      <td>6/30/2018</td>\n",
       "      <td>WI</td>\n",
       "      <td>Ford C-Max Energi</td>\n",
       "    </tr>\n",
       "    <tr>\n",
       "      <th>4</th>\n",
       "      <td>1</td>\n",
       "      <td>DMV Direct (6/30/2018)</td>\n",
       "      <td>53045</td>\n",
       "      <td>1FADP5FU</td>\n",
       "      <td>6/30/2018</td>\n",
       "      <td>WI</td>\n",
       "      <td>Ford C-Max Energi</td>\n",
       "    </tr>\n",
       "  </tbody>\n",
       "</table>\n",
       "</div>"
      ],
      "text/plain": [
       "   DMV_ID       DMV_Snapshot_Date  Zip_code VIN_Prefix  \\\n",
       "0       1  DMV Direct (6/30/2018)     30348   1FADP5FU   \n",
       "1       1  DMV Direct (6/30/2018)     48126   1FADP5FU   \n",
       "2       1  DMV Direct (6/30/2018)     52101   1FADP5FU   \n",
       "3       1  DMV Direct (6/30/2018)     53005   1FADP5FU   \n",
       "4       1  DMV Direct (6/30/2018)     53045   1FADP5FU   \n",
       "\n",
       "  Registration_Valid_Date State_Code      EV_Make_Model  \n",
       "0               6/30/2018         WI  Ford C-Max Energi  \n",
       "1               6/30/2018         WI  Ford C-Max Energi  \n",
       "2               6/30/2018         WI  Ford C-Max Energi  \n",
       "3               6/30/2018         WI  Ford C-Max Energi  \n",
       "4               6/30/2018         WI  Ford C-Max Energi  "
      ]
     },
     "execution_count": 118,
     "metadata": {},
     "output_type": "execute_result"
    }
   ],
   "source": [
    "ev_reg_df.head()"
   ]
  },
  {
   "cell_type": "code",
   "execution_count": 119,
   "id": "cd4db701",
   "metadata": {},
   "outputs": [
    {
     "data": {
      "text/plain": [
       "Zip_Code                             object\n",
       "Total_Households                      int64\n",
       "Total_Households_Margin_Error         int64\n",
       "Median_Households_Estimate_Income    object\n",
       "Median_Households_Margin_Error       object\n",
       "Mean_Households_Estimate_Income      object\n",
       "Mean_Households_Margin_Error         object\n",
       "dtype: object"
      ]
     },
     "execution_count": 119,
     "metadata": {},
     "output_type": "execute_result"
    }
   ],
   "source": [
    "medianInc_df.dtypes"
   ]
  },
  {
   "cell_type": "code",
   "execution_count": 120,
   "id": "85622904",
   "metadata": {},
   "outputs": [
    {
     "data": {
      "text/plain": [
       "Zip_code                   int64\n",
       "DMV_ID                     int64\n",
       "DMV_Snapshot_Date          int64\n",
       "VIN_Prefix                 int64\n",
       "Registration_Valid_Date    int64\n",
       "State_Code                 int64\n",
       "EV_Make_Model              int64\n",
       "dtype: object"
      ]
     },
     "execution_count": 120,
     "metadata": {},
     "output_type": "execute_result"
    }
   ],
   "source": [
    "ev_regzip_df = ev_reg_df.groupby(by=[\"Zip_code\"], as_index=False).count()\n",
    "ev_regzip_df.tail(20)\n",
    "ev_regzip_df.dtypes"
   ]
  },
  {
   "cell_type": "code",
   "execution_count": 122,
   "id": "37d8ab3e",
   "metadata": {},
   "outputs": [],
   "source": [
    "# Change Column Dtype\n",
    "ev_regzip_df['Zip_code'] = ev_regzip_df['Zip_code'].apply(str)"
   ]
  },
  {
   "cell_type": "code",
   "execution_count": 123,
   "id": "611d7c7a",
   "metadata": {},
   "outputs": [],
   "source": [
    "#Drop Columns\n",
    "ev_regzip_df = ev_regzip_df.drop([\"DMV_Snapshot_Date\", \"VIN_Prefix\", \"Registration_Valid_Date\", \"State_Code\", \"EV_Make_Model\"], axis=1)\n"
   ]
  },
  {
   "cell_type": "code",
   "execution_count": 150,
   "id": "6b3c70cc",
   "metadata": {},
   "outputs": [
    {
     "data": {
      "text/plain": [
       "Index(['Zip_Code', 'Registrations'], dtype='object')"
      ]
     },
     "execution_count": 150,
     "metadata": {},
     "output_type": "execute_result"
    }
   ],
   "source": [
    "#Rename Columns\n",
    "ev_regzip_df = ev_regzip_df.rename(columns={\"DMV_ID\": \"Registrations\", \"Zip_code\": \"Zip_Code\"})\n",
    "ev_regzip_df.columns"
   ]
  },
  {
   "cell_type": "code",
   "execution_count": 159,
   "id": "e5f70664",
   "metadata": {},
   "outputs": [
    {
     "data": {
      "text/html": [
       "<div>\n",
       "<style scoped>\n",
       "    .dataframe tbody tr th:only-of-type {\n",
       "        vertical-align: middle;\n",
       "    }\n",
       "\n",
       "    .dataframe tbody tr th {\n",
       "        vertical-align: top;\n",
       "    }\n",
       "\n",
       "    .dataframe thead th {\n",
       "        text-align: right;\n",
       "    }\n",
       "</style>\n",
       "<table border=\"1\" class=\"dataframe\">\n",
       "  <thead>\n",
       "    <tr style=\"text-align: right;\">\n",
       "      <th></th>\n",
       "      <th>Zip_Code</th>\n",
       "      <th>Registrations</th>\n",
       "      <th>Total_Households</th>\n",
       "      <th>Median_Households_Estimate_Income</th>\n",
       "    </tr>\n",
       "  </thead>\n",
       "  <tbody>\n",
       "    <tr>\n",
       "      <th>0</th>\n",
       "      <td>2865</td>\n",
       "      <td>1</td>\n",
       "      <td>6497</td>\n",
       "      <td>92742</td>\n",
       "    </tr>\n",
       "    <tr>\n",
       "      <th>1</th>\n",
       "      <td>4066</td>\n",
       "      <td>3</td>\n",
       "      <td>349</td>\n",
       "      <td>77969</td>\n",
       "    </tr>\n",
       "    <tr>\n",
       "      <th>2</th>\n",
       "      <td>7470</td>\n",
       "      <td>5</td>\n",
       "      <td>18350</td>\n",
       "      <td>123204</td>\n",
       "    </tr>\n",
       "    <tr>\n",
       "      <th>3</th>\n",
       "      <td>7645</td>\n",
       "      <td>5</td>\n",
       "      <td>2975</td>\n",
       "      <td>146708</td>\n",
       "    </tr>\n",
       "    <tr>\n",
       "      <th>4</th>\n",
       "      <td>8054</td>\n",
       "      <td>5</td>\n",
       "      <td>17302</td>\n",
       "      <td>94832</td>\n",
       "    </tr>\n",
       "  </tbody>\n",
       "</table>\n",
       "</div>"
      ],
      "text/plain": [
       "  Zip_Code  Registrations  Total_Households Median_Households_Estimate_Income\n",
       "0     2865              1              6497                             92742\n",
       "1     4066              3               349                             77969\n",
       "2     7470              5             18350                            123204\n",
       "3     7645              5              2975                            146708\n",
       "4     8054              5             17302                             94832"
      ]
     },
     "execution_count": 159,
     "metadata": {},
     "output_type": "execute_result"
    }
   ],
   "source": [
    "# Joining Dataframes\n",
    "income_reg_df = pd.merge(ev_regzip_df[[\"Zip_Code\", \"Registrations\"]], medianInc_df[[\"Total_Households\", \"Zip_Code\", \"Median_Households_Estimate_Income\"]], on=\"Zip_Code\")\n",
    "income_reg_df.head()"
   ]
  },
  {
   "cell_type": "code",
   "execution_count": 170,
   "id": "251db0c9",
   "metadata": {},
   "outputs": [
    {
     "data": {
      "text/plain": [
       "Index(['Zip_Code', 'Registrations', 'Total_Households',\n",
       "       'Median_Households_Estimate_Income', 'Type'],\n",
       "      dtype='object')"
      ]
     },
     "execution_count": 170,
     "metadata": {},
     "output_type": "execute_result"
    }
   ],
   "source": [
    "# Join urb_rural_df with income_reg_df\n",
    "\n",
    "wi_data_df = pd.merge(income_reg_df[[\"Zip_Code\", \"Registrations\", \"Total_Households\", \"Median_Households_Estimate_Income\"]], urb_rural_df[[\"Type\", \"Zip_Code\"]], on=\"Zip_Code\")\n",
    "wi_data_df.columns"
   ]
  },
  {
   "cell_type": "code",
   "execution_count": 162,
   "id": "31002a1e",
   "metadata": {},
   "outputs": [],
   "source": [
    "# Saving to CSV for Tableau\n",
    "# Writing File to CSV\n",
    "income_reg_df.to_csv(\"/Users/jennifermadson/Desktop/Data-Analytics-BootCamp/School-Projects/data_miners/resources/zip_inc_reg.csv\", index=False)  "
   ]
  },
  {
   "cell_type": "code",
   "execution_count": 172,
   "id": "1f256228",
   "metadata": {},
   "outputs": [],
   "source": [
    "# Saving to CSV for Tableau\n",
    "# Writing WI Data File to CSV\n",
    "wi_data_df.to_csv(\"/Users/jennifermadson/Desktop/Data-Analytics-BootCamp/School-Projects/data_miners/resources/wi_data_reg.csv\", index=False)  "
   ]
  },
  {
   "cell_type": "code",
   "execution_count": null,
   "id": "15a86893",
   "metadata": {},
   "outputs": [],
   "source": []
  }
 ],
 "metadata": {
  "kernelspec": {
   "display_name": "PythonData",
   "language": "python",
   "name": "pythondata"
  },
  "language_info": {
   "codemirror_mode": {
    "name": "ipython",
    "version": 3
   },
   "file_extension": ".py",
   "mimetype": "text/x-python",
   "name": "python",
   "nbconvert_exporter": "python",
   "pygments_lexer": "ipython3",
   "version": "3.8.8"
  }
 },
 "nbformat": 4,
 "nbformat_minor": 5
}
