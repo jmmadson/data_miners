{
  "nbformat": 4,
  "nbformat_minor": 0,
  "metadata": {
    "colab": {
      "name": "data_miners_linear_FINAL.ipynb",
      "provenance": [],
      "collapsed_sections": [],
      "machine_shape": "hm"
    },
    "kernelspec": {
      "name": "python3",
      "display_name": "Python 3"
    },
    "language_info": {
      "name": "python"
    }
  },
  "cells": [
    {
      "cell_type": "code",
      "execution_count": 1,
      "metadata": {
        "id": "Kqc03_XMs2D0"
      },
      "outputs": [],
      "source": [
        "# Initial imports\n",
        "# import numpy as np\n",
        "import pandas as pd\n",
        "import sklearn.linear_model\n",
        "\n",
        "from sklearn.linear_model import LinearRegression\n",
        "from sklearn.preprocessing import StandardScaler\n",
        "from sklearn.model_selection import train_test_split\n",
        "\n",
        "model_data = ('/content/model_df.csv')\n",
        "pred_data = ('/content/for_predictions.csv')"
      ]
    },
    {
      "cell_type": "code",
      "source": [
        "def clean_set(data):\n",
        "  data_df = pd.read_csv(data)\n",
        "\n",
        "  data_df['ZIP_CODE'] = data_df['ZIP_CODE'].apply(lambda x: f'{x:05}')\n",
        "\n",
        "  # set ZIP_CODE as index\n",
        "  data_df = data_df.set_index('ZIP_CODE')\n",
        "\n",
        "  data_df['EV_TOTAL'] = data_df.iloc[:, -9:-7].sum(axis=1)\n",
        "\n",
        "  data_df = data_df[['EV_LEVEL_1', 'EV_LEVEL_2', 'EV_FAST', 'EV_TOTAL',\n",
        "               'NETWORK_TYPE_ChargePoint',\t'NETWORK_TYPE_Non_Networked',\t'NETWORK_TYPE_Other_Network',\n",
        "               'TOTAL_HOUSEHOLDS',\t'MEDIAN_INCOME',\n",
        "               'REG_COUNTS']]\n",
        "  \n",
        "  return data_df"
      ],
      "metadata": {
        "id": "zn10-tZqztKs"
      },
      "execution_count": 2,
      "outputs": []
    },
    {
      "cell_type": "code",
      "source": [
        "model_df = clean_set(model_data)\n",
        "pred_df = clean_set(pred_data)"
      ],
      "metadata": {
        "id": "ggdb4Lnm0aU0"
      },
      "execution_count": 3,
      "outputs": []
    },
    {
      "cell_type": "markdown",
      "source": [
        "# Train-Test-Split"
      ],
      "metadata": {
        "id": "luUt9dGFvxbx"
      }
    },
    {
      "cell_type": "code",
      "source": [
        "def target_feature(dataframe):\n",
        "  y = model_df.REG_COUNTS\n",
        "\n",
        "  X = model_df[['EV_LEVEL_1', 'EV_LEVEL_2', 'EV_FAST', 'EV_TOTAL',\n",
        "                    'NETWORK_TYPE_ChargePoint',\t'NETWORK_TYPE_Non_Networked',\t'NETWORK_TYPE_Other_Network',\n",
        "                    'TOTAL_HOUSEHOLDS',\t'MEDIAN_INCOME']]\n",
        "  \n",
        "  return (X,y)"
      ],
      "metadata": {
        "id": "qtGGFv1K3lH5"
      },
      "execution_count": 4,
      "outputs": []
    },
    {
      "cell_type": "code",
      "source": [
        "model_X, model_y = target_feature(model_df)\n",
        "\n",
        "pred_X, pred_y = target_feature(pred_df)"
      ],
      "metadata": {
        "id": "0fsxTqhN33eQ"
      },
      "execution_count": 5,
      "outputs": []
    },
    {
      "cell_type": "code",
      "source": [
        "# Split the data into training/testing sets\n",
        "X_train, X_test, y_train, y_test = train_test_split(model_X, model_y, test_size=0.33, random_state=42)"
      ],
      "metadata": {
        "id": "VoP1QnrN4LHp"
      },
      "execution_count": 6,
      "outputs": []
    },
    {
      "cell_type": "markdown",
      "source": [
        "# Scaling & Normalization"
      ],
      "metadata": {
        "id": "EbG6Q27gpt5t"
      }
    },
    {
      "cell_type": "code",
      "source": [
        "input_scaler = StandardScaler()\n",
        "output_scaler = StandardScaler()\n",
        "\n",
        "X_train_scaled = input_scaler.fit_transform(X_train)\n",
        "X_test_scaled = input_scaler.transform(X_test)\n",
        "\n",
        "y_train_scaled = output_scaler.fit_transform(y_train.values.reshape(-1,1))\n",
        "y_test_scaled = output_scaler.transform(y_test.values.reshape(-1,1))"
      ],
      "metadata": {
        "id": "AAsb4Icopz4a"
      },
      "execution_count": 7,
      "outputs": []
    },
    {
      "cell_type": "markdown",
      "source": [
        "# Linear Regression"
      ],
      "metadata": {
        "id": "N6b6JDwLRbqR"
      }
    },
    {
      "cell_type": "code",
      "source": [
        "# Train the model using the training sets\n",
        "model = LinearRegression()\n",
        "model.fit(X_train_scaled, y_train_scaled)"
      ],
      "metadata": {
        "colab": {
          "base_uri": "https://localhost:8080/"
        },
        "id": "B-PYnQjLRube",
        "outputId": "01eb13ee-f3dc-465f-bc87-d53c0c5ff6ba"
      },
      "execution_count": 8,
      "outputs": [
        {
          "output_type": "execute_result",
          "data": {
            "text/plain": [
              "LinearRegression()"
            ]
          },
          "metadata": {},
          "execution_count": 8
        }
      ]
    },
    {
      "cell_type": "markdown",
      "source": [
        "#Export Predictions"
      ],
      "metadata": {
        "id": "gmMbU208eIlL"
      }
    },
    {
      "cell_type": "code",
      "source": [
        "def predict(in_scaler, out_scaler, orig_df, ml_model, data_X):\n",
        "  data_scaled = in_scaler.transform(data_X)\n",
        "\n",
        "  pred_scaled = ml_model.predict(data_scaled)\n",
        "\n",
        "  pred = out_scaler.inverse_transform(pred_scaled)\n",
        "\n",
        "  pred_df = pd.DataFrame(pred, index=data_X.index, columns=['REG_PREDICT'])\n",
        "\n",
        "  pred_out_df = orig_df.merge(pred_df, how='left', on='ZIP_CODE')\n",
        "\n",
        "  return pred_out_df"
      ],
      "metadata": {
        "id": "PBrSkj-B63Mo"
      },
      "execution_count": 13,
      "outputs": []
    },
    {
      "cell_type": "code",
      "source": [
        "model_predictions_df = predict(input_scaler, output_scaler, model_df, model, model_X)\n",
        "\n",
        "# not working with current predict function\n",
        "# pred_predictions_df = predict(input_scaler, output_scaler, pred_df, model, pred_X)"
      ],
      "metadata": {
        "id": "uduRynYz8oO4"
      },
      "execution_count": 14,
      "outputs": []
    },
    {
      "cell_type": "code",
      "source": [
        "# export ev_ml_out_df for Tableau.\n",
        "model_predictions_df.to_csv('pred_out_df.csv')"
      ],
      "metadata": {
        "id": "-UOAyJ0FszjX"
      },
      "execution_count": 15,
      "outputs": []
    }
  ]
}