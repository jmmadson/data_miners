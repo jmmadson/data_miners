{
  "nbformat": 4,
  "nbformat_minor": 0,
  "metadata": {
    "colab": {
      "name": "data_miners_linear_FINAL.ipynb",
      "provenance": [],
      "collapsed_sections": [],
      "machine_shape": "hm"
    },
    "kernelspec": {
      "name": "python3",
      "display_name": "Python 3"
    },
    "language_info": {
      "name": "python"
    }
  },
  "cells": [
    {
      "cell_type": "markdown",
      "source": [
        "# Purpose of Notebook\n",
        "\n",
        "This is the current final form linear regression machine learning model for Data Miners Group EV Registration Analysis\n",
        "\n",
        "The linear regression model can generate predictions based on the available target and features in the dataset generated with the data_miners_preprocessing_AWS notebook.\n",
        "\n",
        "The User Interactive section of the notebook allows a user to select a feature of the dataset to modify, and add a modifcation value to the feature. The code will export a csv with the modified data and present a dataframe for inspection."
      ],
      "metadata": {
        "id": "L2AYgXFxr-94"
      }
    },
    {
      "cell_type": "markdown",
      "source": [
        "# Initial Imports & Load CSV"
      ],
      "metadata": {
        "id": "nINgeibTkiom"
      }
    },
    {
      "cell_type": "code",
      "execution_count": 1,
      "metadata": {
        "id": "Kqc03_XMs2D0"
      },
      "outputs": [],
      "source": [
        "# Initial imports\n",
        "import pandas as pd\n",
        "import sklearn.linear_model\n",
        "\n",
        "from sklearn.linear_model import LinearRegression\n",
        "from sklearn.preprocessing import StandardScaler\n",
        "from sklearn.model_selection import train_test_split\n",
        "\n",
        "model_data = ('/content/model_df.csv')"
      ]
    },
    {
      "cell_type": "markdown",
      "source": [
        "# Activate Functions"
      ],
      "metadata": {
        "id": "X9nHlF7Ckkqq"
      }
    },
    {
      "cell_type": "code",
      "source": [
        "# function to turn csv data to dataframe\n",
        "def clean_set(data):\n",
        "  # read csv\n",
        "  data_df = pd.read_csv(data)\n",
        "\n",
        "  # prepare zip code data to appropriate 5 digit format\n",
        "  data_df['ZIP_CODE'] = data_df['ZIP_CODE'].apply(lambda x: f'{x:05}')\n",
        "\n",
        "  # set ZIP_CODE as index\n",
        "  data_df = data_df.set_index('ZIP_CODE')\n",
        "\n",
        "  # create an EV_TOTAL Column with sum of EV Types\n",
        "  data_df['EV_TOTAL'] = data_df.iloc[:, -9:-7].sum(axis=1)\n",
        "\n",
        "  # Order columns\n",
        "  data_df = data_df[['EV_LEVEL_1', 'EV_LEVEL_2', 'EV_FAST', 'EV_TOTAL',\n",
        "               'NETWORK_TYPE_ChargePoint',\t'NETWORK_TYPE_Non_Networked',\t'NETWORK_TYPE_Other_Network',\n",
        "               'TOTAL_HOUSEHOLDS',\t'MEDIAN_INCOME',\n",
        "               'REG_COUNTS']]\n",
        "  \n",
        "  # return the data frame\n",
        "  return data_df\n",
        "\n",
        "\n",
        "# function to get target and features\n",
        "def target_feature(dataframe):\n",
        "  # assign y (target)\n",
        "  y = dataframe.REG_COUNTS\n",
        "\n",
        "  # assign X (features)\n",
        "  X = dataframe[['EV_LEVEL_1', 'EV_LEVEL_2', 'EV_FAST', 'EV_TOTAL',\n",
        "                    'NETWORK_TYPE_ChargePoint',\t'NETWORK_TYPE_Non_Networked',\t'NETWORK_TYPE_Other_Network',\n",
        "                    'TOTAL_HOUSEHOLDS',\t'MEDIAN_INCOME']]\n",
        "  \n",
        "  # return target and feature variables\n",
        "  return (X,y)\n",
        "\n",
        "# function to generate predictions from dataset\n",
        "def predict(in_scaler, out_scaler, orig_df, ml_model, data_X):\n",
        "  # transform feature data\n",
        "  data_scaled = in_scaler.transform(data_X)\n",
        "\n",
        "  # make predictions with scaled feature data\n",
        "  pred_scaled = ml_model.predict(data_scaled)\n",
        "\n",
        "  # inverse transform prediction data to un-scaled format\n",
        "  pred = out_scaler.inverse_transform(pred_scaled)\n",
        "\n",
        "  # create a data frame with prediction data\n",
        "  pred_df = pd.DataFrame(pred, index=data_X.index, columns=['REG_PREDICT'])\n",
        "\n",
        "  # merge original data frame with prediction data\n",
        "  pred_out_df = orig_df.merge(pred_df, how='left', on='ZIP_CODE')\n",
        "\n",
        "  # return merged dataframe\n",
        "  return pred_out_df"
      ],
      "metadata": {
        "id": "zn10-tZqztKs"
      },
      "execution_count": 2,
      "outputs": []
    },
    {
      "cell_type": "markdown",
      "source": [
        "# Create dataframe for ML Model"
      ],
      "metadata": {
        "id": "uVYzUbvfkrY9"
      }
    },
    {
      "cell_type": "code",
      "source": [
        "# use clean_set function to prepare dataframe for ML Model\n",
        "model_df = clean_set(model_data)"
      ],
      "metadata": {
        "id": "ggdb4Lnm0aU0"
      },
      "execution_count": 3,
      "outputs": []
    },
    {
      "cell_type": "markdown",
      "source": [
        "# Train-Test-Split"
      ],
      "metadata": {
        "id": "luUt9dGFvxbx"
      }
    },
    {
      "cell_type": "code",
      "source": [
        "# use target_feature function to assign target features for ml model\n",
        "model_X, model_y = target_feature(model_df)\n",
        "\n",
        "# Split the data into training/testing sets\n",
        "X_train, X_test, y_train, y_test = train_test_split(model_X, model_y, test_size=0.33, random_state=42)"
      ],
      "metadata": {
        "id": "0fsxTqhN33eQ"
      },
      "execution_count": 4,
      "outputs": []
    },
    {
      "cell_type": "markdown",
      "source": [
        "# Scaling"
      ],
      "metadata": {
        "id": "EbG6Q27gpt5t"
      }
    },
    {
      "cell_type": "code",
      "source": [
        "# input and output scaler to fit and transform data and\n",
        "# and later perform an inverse transformation to return\n",
        "# more useable data\n",
        "input_scaler = StandardScaler()\n",
        "output_scaler = StandardScaler()\n",
        "\n",
        "X_train_scaled = input_scaler.fit_transform(X_train)\n",
        "X_test_scaled = input_scaler.transform(X_test)\n",
        "\n",
        "y_train_scaled = output_scaler.fit_transform(y_train.values.reshape(-1,1))\n",
        "y_test_scaled = output_scaler.transform(y_test.values.reshape(-1,1))"
      ],
      "metadata": {
        "id": "AAsb4Icopz4a"
      },
      "execution_count": 5,
      "outputs": []
    },
    {
      "cell_type": "markdown",
      "source": [
        "# Linear Regression"
      ],
      "metadata": {
        "id": "N6b6JDwLRbqR"
      }
    },
    {
      "cell_type": "code",
      "source": [
        "# Train the model using the training sets\n",
        "model = LinearRegression()\n",
        "model.fit(X_train_scaled, y_train_scaled)"
      ],
      "metadata": {
        "colab": {
          "base_uri": "https://localhost:8080/"
        },
        "id": "B-PYnQjLRube",
        "outputId": "b2aafdbe-83eb-48e9-b80e-9317d225ed30"
      },
      "execution_count": 6,
      "outputs": [
        {
          "output_type": "execute_result",
          "data": {
            "text/plain": [
              "LinearRegression()"
            ]
          },
          "metadata": {},
          "execution_count": 6
        }
      ]
    },
    {
      "cell_type": "markdown",
      "source": [
        "#Export Predictions"
      ],
      "metadata": {
        "id": "gmMbU208eIlL"
      }
    },
    {
      "cell_type": "code",
      "source": [
        "# use predict function to return a dataframe with predictions.\n",
        "model_predictions_df = predict(input_scaler, output_scaler, model_df, model, model_X)\n",
        "\n",
        "# export ev_ml_out_df for Tableau.\n",
        "model_predictions_df.to_csv('pred_out_df.csv')"
      ],
      "metadata": {
        "id": "uduRynYz8oO4"
      },
      "execution_count": 7,
      "outputs": []
    },
    {
      "cell_type": "markdown",
      "source": [
        "# User Interactive"
      ],
      "metadata": {
        "id": "hl3SAc8XU7hD"
      }
    },
    {
      "cell_type": "code",
      "source": [
        "# create a copy of the model_df dataframe\n",
        "test_df = model_df.copy()\n",
        "\n",
        "# input functions to gather data from user.\n",
        "select_feature = input(\"\\n Enter a feature from your dataset: \\n EV_LEVEL_1, EV_LEVEL_2, EV_FAST, EV_TOTAL, \\n NETWORK_TYPE_ChargePoint, NETWORK_TYPE_Non_Networked, NETWORK_TYPE_Other_Network, \\n TOTAL_HOUSEHOLDS, MEDIAN_INCOME \\n\\n \")\n",
        "modifier_input = input(\"Modify feature by what (whole number)? \\n\")\n",
        "\n",
        "# convert input data to int format for processing\n",
        "modifier = int(modifier_input)\n",
        "\n",
        "# iterate over the dataframe row by row\n",
        "for index_label, row_series in test_df.iterrows():\n",
        "    # For each row update the 'Bonus' value to it's double\n",
        "    test_df.at[index_label , select_feature] = row_series[select_feature] + modifier\n",
        "\n",
        "# generate target and feature data to make prediction\n",
        "pred_X, pred_y = target_feature(test_df)\n",
        "\n",
        "# use predict function to return dataframe with user input data\n",
        "feature_pred_df = predict(input_scaler, output_scaler, test_df, model, pred_X)\n",
        "\n",
        "# create a new column with the differnce between REG_COUNTS and REG_PREDICT\n",
        "feature_pred_df['TARGET_CHANGE'] = feature_pred_df['REG_PREDICT'] - feature_pred_df['REG_COUNTS']\n",
        "\n",
        "# create a filename based on user input data\n",
        "filename = (select_feature + \"_\" + str(modifier))\n",
        "\n",
        "# create a csv filename for exporting csv with descriptive filename\n",
        "# that reflects the user input data.\n",
        "csv_name = \"pred_%s.csv\" % filename\n",
        "\n",
        "# export csv for use in Tableu to visualize data.\n",
        "feature_pred_df.to_csv(csv_name)\n",
        "\n",
        "# display dataframe for inspection.\n",
        "feature_pred_df"
      ],
      "metadata": {
        "colab": {
          "base_uri": "https://localhost:8080/",
          "height": 684
        },
        "id": "PQv-rWLRkSiJ",
        "outputId": "ac498fac-52ce-447b-bfd9-7afa0de45df4"
      },
      "execution_count": 8,
      "outputs": [
        {
          "name": "stdout",
          "output_type": "stream",
          "text": [
            "\n",
            " Enter a feature from your dataset: \n",
            " EV_LEVEL_1, EV_LEVEL_2, EV_FAST, EV_TOTAL, \n",
            " NETWORK_TYPE_ChargePoint, NETWORK_TYPE_Non_Networked, NETWORK_TYPE_Other_Network, \n",
            " TOTAL_HOUSEHOLDS, MEDIAN_INCOME \n",
            "\n",
            " EV_FAST\n",
            "Modify feature by what (whole number)? \n",
            "1\n"
          ]
        },
        {
          "output_type": "execute_result",
          "data": {
            "text/html": [
              "\n",
              "  <div id=\"df-01bfb74a-eba3-4de7-8b69-da87675b62a4\">\n",
              "    <div class=\"colab-df-container\">\n",
              "      <div>\n",
              "<style scoped>\n",
              "    .dataframe tbody tr th:only-of-type {\n",
              "        vertical-align: middle;\n",
              "    }\n",
              "\n",
              "    .dataframe tbody tr th {\n",
              "        vertical-align: top;\n",
              "    }\n",
              "\n",
              "    .dataframe thead th {\n",
              "        text-align: right;\n",
              "    }\n",
              "</style>\n",
              "<table border=\"1\" class=\"dataframe\">\n",
              "  <thead>\n",
              "    <tr style=\"text-align: right;\">\n",
              "      <th></th>\n",
              "      <th>EV_LEVEL_1</th>\n",
              "      <th>EV_LEVEL_2</th>\n",
              "      <th>EV_FAST</th>\n",
              "      <th>EV_TOTAL</th>\n",
              "      <th>NETWORK_TYPE_ChargePoint</th>\n",
              "      <th>NETWORK_TYPE_Non_Networked</th>\n",
              "      <th>NETWORK_TYPE_Other_Network</th>\n",
              "      <th>TOTAL_HOUSEHOLDS</th>\n",
              "      <th>MEDIAN_INCOME</th>\n",
              "      <th>REG_COUNTS</th>\n",
              "      <th>REG_PREDICT</th>\n",
              "      <th>TARGET_CHANGE</th>\n",
              "    </tr>\n",
              "    <tr>\n",
              "      <th>ZIP_CODE</th>\n",
              "      <th></th>\n",
              "      <th></th>\n",
              "      <th></th>\n",
              "      <th></th>\n",
              "      <th></th>\n",
              "      <th></th>\n",
              "      <th></th>\n",
              "      <th></th>\n",
              "      <th></th>\n",
              "      <th></th>\n",
              "      <th></th>\n",
              "      <th></th>\n",
              "    </tr>\n",
              "  </thead>\n",
              "  <tbody>\n",
              "    <tr>\n",
              "      <th>03266</th>\n",
              "      <td>0</td>\n",
              "      <td>2</td>\n",
              "      <td>1</td>\n",
              "      <td>2</td>\n",
              "      <td>0</td>\n",
              "      <td>1</td>\n",
              "      <td>0</td>\n",
              "      <td>851.0</td>\n",
              "      <td>54904.0</td>\n",
              "      <td>0</td>\n",
              "      <td>-298.358067</td>\n",
              "      <td>-298.358067</td>\n",
              "    </tr>\n",
              "    <tr>\n",
              "      <th>07001</th>\n",
              "      <td>0</td>\n",
              "      <td>1</td>\n",
              "      <td>1</td>\n",
              "      <td>1</td>\n",
              "      <td>0</td>\n",
              "      <td>1</td>\n",
              "      <td>0</td>\n",
              "      <td>5022.0</td>\n",
              "      <td>69849.0</td>\n",
              "      <td>173</td>\n",
              "      <td>315.001494</td>\n",
              "      <td>142.001494</td>\n",
              "    </tr>\n",
              "    <tr>\n",
              "      <th>07003</th>\n",
              "      <td>0</td>\n",
              "      <td>12</td>\n",
              "      <td>6</td>\n",
              "      <td>12</td>\n",
              "      <td>4</td>\n",
              "      <td>1</td>\n",
              "      <td>3</td>\n",
              "      <td>18577.0</td>\n",
              "      <td>78034.0</td>\n",
              "      <td>800</td>\n",
              "      <td>2132.050752</td>\n",
              "      <td>1332.050752</td>\n",
              "    </tr>\n",
              "    <tr>\n",
              "      <th>07004</th>\n",
              "      <td>0</td>\n",
              "      <td>6</td>\n",
              "      <td>4</td>\n",
              "      <td>6</td>\n",
              "      <td>0</td>\n",
              "      <td>1</td>\n",
              "      <td>2</td>\n",
              "      <td>2621.0</td>\n",
              "      <td>122063.0</td>\n",
              "      <td>308</td>\n",
              "      <td>1545.683982</td>\n",
              "      <td>1237.683982</td>\n",
              "    </tr>\n",
              "    <tr>\n",
              "      <th>07005</th>\n",
              "      <td>0</td>\n",
              "      <td>1</td>\n",
              "      <td>11</td>\n",
              "      <td>1</td>\n",
              "      <td>0</td>\n",
              "      <td>1</td>\n",
              "      <td>1</td>\n",
              "      <td>5489.0</td>\n",
              "      <td>111946.0</td>\n",
              "      <td>446</td>\n",
              "      <td>1458.738336</td>\n",
              "      <td>1012.738336</td>\n",
              "    </tr>\n",
              "    <tr>\n",
              "      <th>...</th>\n",
              "      <td>...</td>\n",
              "      <td>...</td>\n",
              "      <td>...</td>\n",
              "      <td>...</td>\n",
              "      <td>...</td>\n",
              "      <td>...</td>\n",
              "      <td>...</td>\n",
              "      <td>...</td>\n",
              "      <td>...</td>\n",
              "      <td>...</td>\n",
              "      <td>...</td>\n",
              "      <td>...</td>\n",
              "    </tr>\n",
              "    <tr>\n",
              "      <th>99352</th>\n",
              "      <td>0</td>\n",
              "      <td>13</td>\n",
              "      <td>4</td>\n",
              "      <td>13</td>\n",
              "      <td>1</td>\n",
              "      <td>1</td>\n",
              "      <td>4</td>\n",
              "      <td>12877.0</td>\n",
              "      <td>81410.0</td>\n",
              "      <td>3413</td>\n",
              "      <td>1621.934183</td>\n",
              "      <td>-1791.065817</td>\n",
              "    </tr>\n",
              "    <tr>\n",
              "      <th>99354</th>\n",
              "      <td>36</td>\n",
              "      <td>48</td>\n",
              "      <td>1</td>\n",
              "      <td>84</td>\n",
              "      <td>0</td>\n",
              "      <td>45</td>\n",
              "      <td>1</td>\n",
              "      <td>9175.0</td>\n",
              "      <td>73369.0</td>\n",
              "      <td>2082</td>\n",
              "      <td>1000.749742</td>\n",
              "      <td>-1081.250258</td>\n",
              "    </tr>\n",
              "    <tr>\n",
              "      <th>99361</th>\n",
              "      <td>0</td>\n",
              "      <td>1</td>\n",
              "      <td>1</td>\n",
              "      <td>1</td>\n",
              "      <td>0</td>\n",
              "      <td>0</td>\n",
              "      <td>1</td>\n",
              "      <td>750.0</td>\n",
              "      <td>69118.0</td>\n",
              "      <td>100</td>\n",
              "      <td>169.792598</td>\n",
              "      <td>69.792598</td>\n",
              "    </tr>\n",
              "    <tr>\n",
              "      <th>99362</th>\n",
              "      <td>1</td>\n",
              "      <td>27</td>\n",
              "      <td>1</td>\n",
              "      <td>28</td>\n",
              "      <td>1</td>\n",
              "      <td>3</td>\n",
              "      <td>12</td>\n",
              "      <td>15717.0</td>\n",
              "      <td>56665.0</td>\n",
              "      <td>2054</td>\n",
              "      <td>2357.427031</td>\n",
              "      <td>303.427031</td>\n",
              "    </tr>\n",
              "    <tr>\n",
              "      <th>99403</th>\n",
              "      <td>0</td>\n",
              "      <td>2</td>\n",
              "      <td>1</td>\n",
              "      <td>2</td>\n",
              "      <td>0</td>\n",
              "      <td>0</td>\n",
              "      <td>1</td>\n",
              "      <td>8338.0</td>\n",
              "      <td>53079.0</td>\n",
              "      <td>370</td>\n",
              "      <td>281.185197</td>\n",
              "      <td>-88.814803</td>\n",
              "    </tr>\n",
              "  </tbody>\n",
              "</table>\n",
              "<p>2493 rows × 12 columns</p>\n",
              "</div>\n",
              "      <button class=\"colab-df-convert\" onclick=\"convertToInteractive('df-01bfb74a-eba3-4de7-8b69-da87675b62a4')\"\n",
              "              title=\"Convert this dataframe to an interactive table.\"\n",
              "              style=\"display:none;\">\n",
              "        \n",
              "  <svg xmlns=\"http://www.w3.org/2000/svg\" height=\"24px\"viewBox=\"0 0 24 24\"\n",
              "       width=\"24px\">\n",
              "    <path d=\"M0 0h24v24H0V0z\" fill=\"none\"/>\n",
              "    <path d=\"M18.56 5.44l.94 2.06.94-2.06 2.06-.94-2.06-.94-.94-2.06-.94 2.06-2.06.94zm-11 1L8.5 8.5l.94-2.06 2.06-.94-2.06-.94L8.5 2.5l-.94 2.06-2.06.94zm10 10l.94 2.06.94-2.06 2.06-.94-2.06-.94-.94-2.06-.94 2.06-2.06.94z\"/><path d=\"M17.41 7.96l-1.37-1.37c-.4-.4-.92-.59-1.43-.59-.52 0-1.04.2-1.43.59L10.3 9.45l-7.72 7.72c-.78.78-.78 2.05 0 2.83L4 21.41c.39.39.9.59 1.41.59.51 0 1.02-.2 1.41-.59l7.78-7.78 2.81-2.81c.8-.78.8-2.07 0-2.86zM5.41 20L4 18.59l7.72-7.72 1.47 1.35L5.41 20z\"/>\n",
              "  </svg>\n",
              "      </button>\n",
              "      \n",
              "  <style>\n",
              "    .colab-df-container {\n",
              "      display:flex;\n",
              "      flex-wrap:wrap;\n",
              "      gap: 12px;\n",
              "    }\n",
              "\n",
              "    .colab-df-convert {\n",
              "      background-color: #E8F0FE;\n",
              "      border: none;\n",
              "      border-radius: 50%;\n",
              "      cursor: pointer;\n",
              "      display: none;\n",
              "      fill: #1967D2;\n",
              "      height: 32px;\n",
              "      padding: 0 0 0 0;\n",
              "      width: 32px;\n",
              "    }\n",
              "\n",
              "    .colab-df-convert:hover {\n",
              "      background-color: #E2EBFA;\n",
              "      box-shadow: 0px 1px 2px rgba(60, 64, 67, 0.3), 0px 1px 3px 1px rgba(60, 64, 67, 0.15);\n",
              "      fill: #174EA6;\n",
              "    }\n",
              "\n",
              "    [theme=dark] .colab-df-convert {\n",
              "      background-color: #3B4455;\n",
              "      fill: #D2E3FC;\n",
              "    }\n",
              "\n",
              "    [theme=dark] .colab-df-convert:hover {\n",
              "      background-color: #434B5C;\n",
              "      box-shadow: 0px 1px 3px 1px rgba(0, 0, 0, 0.15);\n",
              "      filter: drop-shadow(0px 1px 2px rgba(0, 0, 0, 0.3));\n",
              "      fill: #FFFFFF;\n",
              "    }\n",
              "  </style>\n",
              "\n",
              "      <script>\n",
              "        const buttonEl =\n",
              "          document.querySelector('#df-01bfb74a-eba3-4de7-8b69-da87675b62a4 button.colab-df-convert');\n",
              "        buttonEl.style.display =\n",
              "          google.colab.kernel.accessAllowed ? 'block' : 'none';\n",
              "\n",
              "        async function convertToInteractive(key) {\n",
              "          const element = document.querySelector('#df-01bfb74a-eba3-4de7-8b69-da87675b62a4');\n",
              "          const dataTable =\n",
              "            await google.colab.kernel.invokeFunction('convertToInteractive',\n",
              "                                                     [key], {});\n",
              "          if (!dataTable) return;\n",
              "\n",
              "          const docLinkHtml = 'Like what you see? Visit the ' +\n",
              "            '<a target=\"_blank\" href=https://colab.research.google.com/notebooks/data_table.ipynb>data table notebook</a>'\n",
              "            + ' to learn more about interactive tables.';\n",
              "          element.innerHTML = '';\n",
              "          dataTable['output_type'] = 'display_data';\n",
              "          await google.colab.output.renderOutput(dataTable, element);\n",
              "          const docLink = document.createElement('div');\n",
              "          docLink.innerHTML = docLinkHtml;\n",
              "          element.appendChild(docLink);\n",
              "        }\n",
              "      </script>\n",
              "    </div>\n",
              "  </div>\n",
              "  "
            ],
            "text/plain": [
              "          EV_LEVEL_1  EV_LEVEL_2  ...  REG_PREDICT  TARGET_CHANGE\n",
              "ZIP_CODE                          ...                            \n",
              "03266              0           2  ...  -298.358067    -298.358067\n",
              "07001              0           1  ...   315.001494     142.001494\n",
              "07003              0          12  ...  2132.050752    1332.050752\n",
              "07004              0           6  ...  1545.683982    1237.683982\n",
              "07005              0           1  ...  1458.738336    1012.738336\n",
              "...              ...         ...  ...          ...            ...\n",
              "99352              0          13  ...  1621.934183   -1791.065817\n",
              "99354             36          48  ...  1000.749742   -1081.250258\n",
              "99361              0           1  ...   169.792598      69.792598\n",
              "99362              1          27  ...  2357.427031     303.427031\n",
              "99403              0           2  ...   281.185197     -88.814803\n",
              "\n",
              "[2493 rows x 12 columns]"
            ]
          },
          "metadata": {},
          "execution_count": 8
        }
      ]
    }
  ]
}