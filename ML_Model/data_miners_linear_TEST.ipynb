{
  "nbformat": 4,
  "nbformat_minor": 0,
  "metadata": {
    "colab": {
      "name": "data_miners_linear_TEST.ipynb",
      "provenance": [],
      "collapsed_sections": [],
      "machine_shape": "hm"
    },
    "kernelspec": {
      "name": "python3",
      "display_name": "Python 3"
    },
    "language_info": {
      "name": "python"
    }
  },
  "cells": [
    {
      "cell_type": "markdown",
      "source": [
        "# Purpose of Notebook\n",
        "\n",
        "This notebook was used to test and develop the linear regression machine learning model for Data Miners Group project\n",
        "\n",
        "The goal of the notebook is to develop a linear regression machine learning model that will prediction changes in the target data when input the available feature data from the model_df dataset.\n",
        "\n",
        "model_df dataset is created using the data_miner_preprocessing_AWS notebook."
      ],
      "metadata": {
        "id": "x9hM-qM23dPm"
      }
    },
    {
      "cell_type": "markdown",
      "source": [
        "#Initial Imports & Preparing Model Dataframe"
      ],
      "metadata": {
        "id": "sFCUpKzmicly"
      }
    },
    {
      "cell_type": "code",
      "execution_count": 1,
      "metadata": {
        "id": "Kqc03_XMs2D0"
      },
      "outputs": [],
      "source": [
        "# Initial imports\n",
        "import numpy as np\n",
        "import pandas as pd\n",
        "import plotly.express as px\n",
        "import matplotlib.pyplot as plt\n",
        "import seaborn as sns\n",
        "import sklearn.linear_model\n",
        "\n",
        "from sklearn.linear_model import LinearRegression\n",
        "from sklearn.preprocessing import StandardScaler\n",
        "from sklearn.model_selection import train_test_split\n",
        "from sklearn.metrics import explained_variance_score, max_error, mean_absolute_error, mean_squared_error, r2_score \n",
        "\n",
        "data = ('/content/model_df.csv')\n",
        "model_df = pd.read_csv(data)"
      ]
    },
    {
      "cell_type": "code",
      "source": [
        "# change zip code to string and reformat\n",
        "model_df['ZIP_CODE'] = model_df['ZIP_CODE'].apply(lambda x: '0' + str(x) if x < 10000 else str(x))\n",
        "\n",
        "# set ZIP_CODE as index\n",
        "model_df = model_df.set_index('ZIP_CODE')\n",
        "\n",
        "model_df.head()"
      ],
      "metadata": {
        "colab": {
          "base_uri": "https://localhost:8080/",
          "height": 301
        },
        "id": "_NOlkdQkjZTM",
        "outputId": "3d9afdc9-723d-4e02-d867-1dfb5b2a3d6f"
      },
      "execution_count": 2,
      "outputs": [
        {
          "output_type": "execute_result",
          "data": {
            "text/html": [
              "\n",
              "  <div id=\"df-37215a18-5f1c-4064-bbc5-4923e17f2239\">\n",
              "    <div class=\"colab-df-container\">\n",
              "      <div>\n",
              "<style scoped>\n",
              "    .dataframe tbody tr th:only-of-type {\n",
              "        vertical-align: middle;\n",
              "    }\n",
              "\n",
              "    .dataframe tbody tr th {\n",
              "        vertical-align: top;\n",
              "    }\n",
              "\n",
              "    .dataframe thead th {\n",
              "        text-align: right;\n",
              "    }\n",
              "</style>\n",
              "<table border=\"1\" class=\"dataframe\">\n",
              "  <thead>\n",
              "    <tr style=\"text-align: right;\">\n",
              "      <th></th>\n",
              "      <th>EV_LEVEL_1</th>\n",
              "      <th>EV_LEVEL_2</th>\n",
              "      <th>EV_FAST</th>\n",
              "      <th>NETWORK_TYPE_ChargePoint</th>\n",
              "      <th>NETWORK_TYPE_Non_Networked</th>\n",
              "      <th>NETWORK_TYPE_Other_Network</th>\n",
              "      <th>TOTAL_HOUSEHOLDS</th>\n",
              "      <th>MEDIAN_INCOME</th>\n",
              "      <th>REG_COUNTS</th>\n",
              "    </tr>\n",
              "    <tr>\n",
              "      <th>ZIP_CODE</th>\n",
              "      <th></th>\n",
              "      <th></th>\n",
              "      <th></th>\n",
              "      <th></th>\n",
              "      <th></th>\n",
              "      <th></th>\n",
              "      <th></th>\n",
              "      <th></th>\n",
              "      <th></th>\n",
              "    </tr>\n",
              "  </thead>\n",
              "  <tbody>\n",
              "    <tr>\n",
              "      <th>03266</th>\n",
              "      <td>0</td>\n",
              "      <td>2</td>\n",
              "      <td>0</td>\n",
              "      <td>0</td>\n",
              "      <td>1</td>\n",
              "      <td>0</td>\n",
              "      <td>851.0</td>\n",
              "      <td>54904.0</td>\n",
              "      <td>0</td>\n",
              "    </tr>\n",
              "    <tr>\n",
              "      <th>07001</th>\n",
              "      <td>0</td>\n",
              "      <td>1</td>\n",
              "      <td>0</td>\n",
              "      <td>0</td>\n",
              "      <td>1</td>\n",
              "      <td>0</td>\n",
              "      <td>5022.0</td>\n",
              "      <td>69849.0</td>\n",
              "      <td>173</td>\n",
              "    </tr>\n",
              "    <tr>\n",
              "      <th>07003</th>\n",
              "      <td>0</td>\n",
              "      <td>12</td>\n",
              "      <td>5</td>\n",
              "      <td>4</td>\n",
              "      <td>1</td>\n",
              "      <td>3</td>\n",
              "      <td>18577.0</td>\n",
              "      <td>78034.0</td>\n",
              "      <td>800</td>\n",
              "    </tr>\n",
              "    <tr>\n",
              "      <th>07004</th>\n",
              "      <td>0</td>\n",
              "      <td>6</td>\n",
              "      <td>3</td>\n",
              "      <td>0</td>\n",
              "      <td>1</td>\n",
              "      <td>2</td>\n",
              "      <td>2621.0</td>\n",
              "      <td>122063.0</td>\n",
              "      <td>308</td>\n",
              "    </tr>\n",
              "    <tr>\n",
              "      <th>07005</th>\n",
              "      <td>0</td>\n",
              "      <td>1</td>\n",
              "      <td>10</td>\n",
              "      <td>0</td>\n",
              "      <td>1</td>\n",
              "      <td>1</td>\n",
              "      <td>5489.0</td>\n",
              "      <td>111946.0</td>\n",
              "      <td>446</td>\n",
              "    </tr>\n",
              "  </tbody>\n",
              "</table>\n",
              "</div>\n",
              "      <button class=\"colab-df-convert\" onclick=\"convertToInteractive('df-37215a18-5f1c-4064-bbc5-4923e17f2239')\"\n",
              "              title=\"Convert this dataframe to an interactive table.\"\n",
              "              style=\"display:none;\">\n",
              "        \n",
              "  <svg xmlns=\"http://www.w3.org/2000/svg\" height=\"24px\"viewBox=\"0 0 24 24\"\n",
              "       width=\"24px\">\n",
              "    <path d=\"M0 0h24v24H0V0z\" fill=\"none\"/>\n",
              "    <path d=\"M18.56 5.44l.94 2.06.94-2.06 2.06-.94-2.06-.94-.94-2.06-.94 2.06-2.06.94zm-11 1L8.5 8.5l.94-2.06 2.06-.94-2.06-.94L8.5 2.5l-.94 2.06-2.06.94zm10 10l.94 2.06.94-2.06 2.06-.94-2.06-.94-.94-2.06-.94 2.06-2.06.94z\"/><path d=\"M17.41 7.96l-1.37-1.37c-.4-.4-.92-.59-1.43-.59-.52 0-1.04.2-1.43.59L10.3 9.45l-7.72 7.72c-.78.78-.78 2.05 0 2.83L4 21.41c.39.39.9.59 1.41.59.51 0 1.02-.2 1.41-.59l7.78-7.78 2.81-2.81c.8-.78.8-2.07 0-2.86zM5.41 20L4 18.59l7.72-7.72 1.47 1.35L5.41 20z\"/>\n",
              "  </svg>\n",
              "      </button>\n",
              "      \n",
              "  <style>\n",
              "    .colab-df-container {\n",
              "      display:flex;\n",
              "      flex-wrap:wrap;\n",
              "      gap: 12px;\n",
              "    }\n",
              "\n",
              "    .colab-df-convert {\n",
              "      background-color: #E8F0FE;\n",
              "      border: none;\n",
              "      border-radius: 50%;\n",
              "      cursor: pointer;\n",
              "      display: none;\n",
              "      fill: #1967D2;\n",
              "      height: 32px;\n",
              "      padding: 0 0 0 0;\n",
              "      width: 32px;\n",
              "    }\n",
              "\n",
              "    .colab-df-convert:hover {\n",
              "      background-color: #E2EBFA;\n",
              "      box-shadow: 0px 1px 2px rgba(60, 64, 67, 0.3), 0px 1px 3px 1px rgba(60, 64, 67, 0.15);\n",
              "      fill: #174EA6;\n",
              "    }\n",
              "\n",
              "    [theme=dark] .colab-df-convert {\n",
              "      background-color: #3B4455;\n",
              "      fill: #D2E3FC;\n",
              "    }\n",
              "\n",
              "    [theme=dark] .colab-df-convert:hover {\n",
              "      background-color: #434B5C;\n",
              "      box-shadow: 0px 1px 3px 1px rgba(0, 0, 0, 0.15);\n",
              "      filter: drop-shadow(0px 1px 2px rgba(0, 0, 0, 0.3));\n",
              "      fill: #FFFFFF;\n",
              "    }\n",
              "  </style>\n",
              "\n",
              "      <script>\n",
              "        const buttonEl =\n",
              "          document.querySelector('#df-37215a18-5f1c-4064-bbc5-4923e17f2239 button.colab-df-convert');\n",
              "        buttonEl.style.display =\n",
              "          google.colab.kernel.accessAllowed ? 'block' : 'none';\n",
              "\n",
              "        async function convertToInteractive(key) {\n",
              "          const element = document.querySelector('#df-37215a18-5f1c-4064-bbc5-4923e17f2239');\n",
              "          const dataTable =\n",
              "            await google.colab.kernel.invokeFunction('convertToInteractive',\n",
              "                                                     [key], {});\n",
              "          if (!dataTable) return;\n",
              "\n",
              "          const docLinkHtml = 'Like what you see? Visit the ' +\n",
              "            '<a target=\"_blank\" href=https://colab.research.google.com/notebooks/data_table.ipynb>data table notebook</a>'\n",
              "            + ' to learn more about interactive tables.';\n",
              "          element.innerHTML = '';\n",
              "          dataTable['output_type'] = 'display_data';\n",
              "          await google.colab.output.renderOutput(dataTable, element);\n",
              "          const docLink = document.createElement('div');\n",
              "          docLink.innerHTML = docLinkHtml;\n",
              "          element.appendChild(docLink);\n",
              "        }\n",
              "      </script>\n",
              "    </div>\n",
              "  </div>\n",
              "  "
            ],
            "text/plain": [
              "          EV_LEVEL_1  EV_LEVEL_2  ...  MEDIAN_INCOME  REG_COUNTS\n",
              "ZIP_CODE                          ...                           \n",
              "03266              0           2  ...        54904.0           0\n",
              "07001              0           1  ...        69849.0         173\n",
              "07003              0          12  ...        78034.0         800\n",
              "07004              0           6  ...       122063.0         308\n",
              "07005              0           1  ...       111946.0         446\n",
              "\n",
              "[5 rows x 9 columns]"
            ]
          },
          "metadata": {},
          "execution_count": 2
        }
      ]
    },
    {
      "cell_type": "code",
      "source": [
        "model_df['EV_TOTAL'] = model_df.iloc[:, -9:-7].sum(axis=1)\n",
        "model_df = model_df[['EV_LEVEL_1', 'EV_LEVEL_2', 'EV_FAST', 'EV_TOTAL',\n",
        "                     'NETWORK_TYPE_ChargePoint',\t'NETWORK_TYPE_Non_Networked',\t'NETWORK_TYPE_Other_Network',\n",
        "                     'TOTAL_HOUSEHOLDS',\t'MEDIAN_INCOME',\n",
        "                     'REG_COUNTS']]\n",
        "model_df"
      ],
      "metadata": {
        "colab": {
          "base_uri": "https://localhost:8080/",
          "height": 518
        },
        "id": "wN8EFNP1N77N",
        "outputId": "24b6460d-1b69-4057-e096-da185d1a0bbf"
      },
      "execution_count": 3,
      "outputs": [
        {
          "output_type": "execute_result",
          "data": {
            "text/html": [
              "\n",
              "  <div id=\"df-c3ecc05d-a1b0-47e0-8076-52d647c085a9\">\n",
              "    <div class=\"colab-df-container\">\n",
              "      <div>\n",
              "<style scoped>\n",
              "    .dataframe tbody tr th:only-of-type {\n",
              "        vertical-align: middle;\n",
              "    }\n",
              "\n",
              "    .dataframe tbody tr th {\n",
              "        vertical-align: top;\n",
              "    }\n",
              "\n",
              "    .dataframe thead th {\n",
              "        text-align: right;\n",
              "    }\n",
              "</style>\n",
              "<table border=\"1\" class=\"dataframe\">\n",
              "  <thead>\n",
              "    <tr style=\"text-align: right;\">\n",
              "      <th></th>\n",
              "      <th>EV_LEVEL_1</th>\n",
              "      <th>EV_LEVEL_2</th>\n",
              "      <th>EV_FAST</th>\n",
              "      <th>EV_TOTAL</th>\n",
              "      <th>NETWORK_TYPE_ChargePoint</th>\n",
              "      <th>NETWORK_TYPE_Non_Networked</th>\n",
              "      <th>NETWORK_TYPE_Other_Network</th>\n",
              "      <th>TOTAL_HOUSEHOLDS</th>\n",
              "      <th>MEDIAN_INCOME</th>\n",
              "      <th>REG_COUNTS</th>\n",
              "    </tr>\n",
              "    <tr>\n",
              "      <th>ZIP_CODE</th>\n",
              "      <th></th>\n",
              "      <th></th>\n",
              "      <th></th>\n",
              "      <th></th>\n",
              "      <th></th>\n",
              "      <th></th>\n",
              "      <th></th>\n",
              "      <th></th>\n",
              "      <th></th>\n",
              "      <th></th>\n",
              "    </tr>\n",
              "  </thead>\n",
              "  <tbody>\n",
              "    <tr>\n",
              "      <th>03266</th>\n",
              "      <td>0</td>\n",
              "      <td>2</td>\n",
              "      <td>0</td>\n",
              "      <td>2</td>\n",
              "      <td>0</td>\n",
              "      <td>1</td>\n",
              "      <td>0</td>\n",
              "      <td>851.0</td>\n",
              "      <td>54904.0</td>\n",
              "      <td>0</td>\n",
              "    </tr>\n",
              "    <tr>\n",
              "      <th>07001</th>\n",
              "      <td>0</td>\n",
              "      <td>1</td>\n",
              "      <td>0</td>\n",
              "      <td>1</td>\n",
              "      <td>0</td>\n",
              "      <td>1</td>\n",
              "      <td>0</td>\n",
              "      <td>5022.0</td>\n",
              "      <td>69849.0</td>\n",
              "      <td>173</td>\n",
              "    </tr>\n",
              "    <tr>\n",
              "      <th>07003</th>\n",
              "      <td>0</td>\n",
              "      <td>12</td>\n",
              "      <td>5</td>\n",
              "      <td>12</td>\n",
              "      <td>4</td>\n",
              "      <td>1</td>\n",
              "      <td>3</td>\n",
              "      <td>18577.0</td>\n",
              "      <td>78034.0</td>\n",
              "      <td>800</td>\n",
              "    </tr>\n",
              "    <tr>\n",
              "      <th>07004</th>\n",
              "      <td>0</td>\n",
              "      <td>6</td>\n",
              "      <td>3</td>\n",
              "      <td>6</td>\n",
              "      <td>0</td>\n",
              "      <td>1</td>\n",
              "      <td>2</td>\n",
              "      <td>2621.0</td>\n",
              "      <td>122063.0</td>\n",
              "      <td>308</td>\n",
              "    </tr>\n",
              "    <tr>\n",
              "      <th>07005</th>\n",
              "      <td>0</td>\n",
              "      <td>1</td>\n",
              "      <td>10</td>\n",
              "      <td>1</td>\n",
              "      <td>0</td>\n",
              "      <td>1</td>\n",
              "      <td>1</td>\n",
              "      <td>5489.0</td>\n",
              "      <td>111946.0</td>\n",
              "      <td>446</td>\n",
              "    </tr>\n",
              "    <tr>\n",
              "      <th>...</th>\n",
              "      <td>...</td>\n",
              "      <td>...</td>\n",
              "      <td>...</td>\n",
              "      <td>...</td>\n",
              "      <td>...</td>\n",
              "      <td>...</td>\n",
              "      <td>...</td>\n",
              "      <td>...</td>\n",
              "      <td>...</td>\n",
              "      <td>...</td>\n",
              "    </tr>\n",
              "    <tr>\n",
              "      <th>99352</th>\n",
              "      <td>0</td>\n",
              "      <td>13</td>\n",
              "      <td>3</td>\n",
              "      <td>13</td>\n",
              "      <td>1</td>\n",
              "      <td>1</td>\n",
              "      <td>4</td>\n",
              "      <td>12877.0</td>\n",
              "      <td>81410.0</td>\n",
              "      <td>3413</td>\n",
              "    </tr>\n",
              "    <tr>\n",
              "      <th>99354</th>\n",
              "      <td>36</td>\n",
              "      <td>48</td>\n",
              "      <td>0</td>\n",
              "      <td>84</td>\n",
              "      <td>0</td>\n",
              "      <td>45</td>\n",
              "      <td>1</td>\n",
              "      <td>9175.0</td>\n",
              "      <td>73369.0</td>\n",
              "      <td>2082</td>\n",
              "    </tr>\n",
              "    <tr>\n",
              "      <th>99361</th>\n",
              "      <td>0</td>\n",
              "      <td>1</td>\n",
              "      <td>0</td>\n",
              "      <td>1</td>\n",
              "      <td>0</td>\n",
              "      <td>0</td>\n",
              "      <td>1</td>\n",
              "      <td>750.0</td>\n",
              "      <td>69118.0</td>\n",
              "      <td>100</td>\n",
              "    </tr>\n",
              "    <tr>\n",
              "      <th>99362</th>\n",
              "      <td>1</td>\n",
              "      <td>27</td>\n",
              "      <td>0</td>\n",
              "      <td>28</td>\n",
              "      <td>1</td>\n",
              "      <td>3</td>\n",
              "      <td>12</td>\n",
              "      <td>15717.0</td>\n",
              "      <td>56665.0</td>\n",
              "      <td>2054</td>\n",
              "    </tr>\n",
              "    <tr>\n",
              "      <th>99403</th>\n",
              "      <td>0</td>\n",
              "      <td>2</td>\n",
              "      <td>0</td>\n",
              "      <td>2</td>\n",
              "      <td>0</td>\n",
              "      <td>0</td>\n",
              "      <td>1</td>\n",
              "      <td>8338.0</td>\n",
              "      <td>53079.0</td>\n",
              "      <td>370</td>\n",
              "    </tr>\n",
              "  </tbody>\n",
              "</table>\n",
              "<p>2493 rows × 10 columns</p>\n",
              "</div>\n",
              "      <button class=\"colab-df-convert\" onclick=\"convertToInteractive('df-c3ecc05d-a1b0-47e0-8076-52d647c085a9')\"\n",
              "              title=\"Convert this dataframe to an interactive table.\"\n",
              "              style=\"display:none;\">\n",
              "        \n",
              "  <svg xmlns=\"http://www.w3.org/2000/svg\" height=\"24px\"viewBox=\"0 0 24 24\"\n",
              "       width=\"24px\">\n",
              "    <path d=\"M0 0h24v24H0V0z\" fill=\"none\"/>\n",
              "    <path d=\"M18.56 5.44l.94 2.06.94-2.06 2.06-.94-2.06-.94-.94-2.06-.94 2.06-2.06.94zm-11 1L8.5 8.5l.94-2.06 2.06-.94-2.06-.94L8.5 2.5l-.94 2.06-2.06.94zm10 10l.94 2.06.94-2.06 2.06-.94-2.06-.94-.94-2.06-.94 2.06-2.06.94z\"/><path d=\"M17.41 7.96l-1.37-1.37c-.4-.4-.92-.59-1.43-.59-.52 0-1.04.2-1.43.59L10.3 9.45l-7.72 7.72c-.78.78-.78 2.05 0 2.83L4 21.41c.39.39.9.59 1.41.59.51 0 1.02-.2 1.41-.59l7.78-7.78 2.81-2.81c.8-.78.8-2.07 0-2.86zM5.41 20L4 18.59l7.72-7.72 1.47 1.35L5.41 20z\"/>\n",
              "  </svg>\n",
              "      </button>\n",
              "      \n",
              "  <style>\n",
              "    .colab-df-container {\n",
              "      display:flex;\n",
              "      flex-wrap:wrap;\n",
              "      gap: 12px;\n",
              "    }\n",
              "\n",
              "    .colab-df-convert {\n",
              "      background-color: #E8F0FE;\n",
              "      border: none;\n",
              "      border-radius: 50%;\n",
              "      cursor: pointer;\n",
              "      display: none;\n",
              "      fill: #1967D2;\n",
              "      height: 32px;\n",
              "      padding: 0 0 0 0;\n",
              "      width: 32px;\n",
              "    }\n",
              "\n",
              "    .colab-df-convert:hover {\n",
              "      background-color: #E2EBFA;\n",
              "      box-shadow: 0px 1px 2px rgba(60, 64, 67, 0.3), 0px 1px 3px 1px rgba(60, 64, 67, 0.15);\n",
              "      fill: #174EA6;\n",
              "    }\n",
              "\n",
              "    [theme=dark] .colab-df-convert {\n",
              "      background-color: #3B4455;\n",
              "      fill: #D2E3FC;\n",
              "    }\n",
              "\n",
              "    [theme=dark] .colab-df-convert:hover {\n",
              "      background-color: #434B5C;\n",
              "      box-shadow: 0px 1px 3px 1px rgba(0, 0, 0, 0.15);\n",
              "      filter: drop-shadow(0px 1px 2px rgba(0, 0, 0, 0.3));\n",
              "      fill: #FFFFFF;\n",
              "    }\n",
              "  </style>\n",
              "\n",
              "      <script>\n",
              "        const buttonEl =\n",
              "          document.querySelector('#df-c3ecc05d-a1b0-47e0-8076-52d647c085a9 button.colab-df-convert');\n",
              "        buttonEl.style.display =\n",
              "          google.colab.kernel.accessAllowed ? 'block' : 'none';\n",
              "\n",
              "        async function convertToInteractive(key) {\n",
              "          const element = document.querySelector('#df-c3ecc05d-a1b0-47e0-8076-52d647c085a9');\n",
              "          const dataTable =\n",
              "            await google.colab.kernel.invokeFunction('convertToInteractive',\n",
              "                                                     [key], {});\n",
              "          if (!dataTable) return;\n",
              "\n",
              "          const docLinkHtml = 'Like what you see? Visit the ' +\n",
              "            '<a target=\"_blank\" href=https://colab.research.google.com/notebooks/data_table.ipynb>data table notebook</a>'\n",
              "            + ' to learn more about interactive tables.';\n",
              "          element.innerHTML = '';\n",
              "          dataTable['output_type'] = 'display_data';\n",
              "          await google.colab.output.renderOutput(dataTable, element);\n",
              "          const docLink = document.createElement('div');\n",
              "          docLink.innerHTML = docLinkHtml;\n",
              "          element.appendChild(docLink);\n",
              "        }\n",
              "      </script>\n",
              "    </div>\n",
              "  </div>\n",
              "  "
            ],
            "text/plain": [
              "          EV_LEVEL_1  EV_LEVEL_2  ...  MEDIAN_INCOME  REG_COUNTS\n",
              "ZIP_CODE                          ...                           \n",
              "03266              0           2  ...        54904.0           0\n",
              "07001              0           1  ...        69849.0         173\n",
              "07003              0          12  ...        78034.0         800\n",
              "07004              0           6  ...       122063.0         308\n",
              "07005              0           1  ...       111946.0         446\n",
              "...              ...         ...  ...            ...         ...\n",
              "99352              0          13  ...        81410.0        3413\n",
              "99354             36          48  ...        73369.0        2082\n",
              "99361              0           1  ...        69118.0         100\n",
              "99362              1          27  ...        56665.0        2054\n",
              "99403              0           2  ...        53079.0         370\n",
              "\n",
              "[2493 rows x 10 columns]"
            ]
          },
          "metadata": {},
          "execution_count": 3
        }
      ]
    },
    {
      "cell_type": "markdown",
      "source": [
        "# Statistical Analysis of Dataset"
      ],
      "metadata": {
        "id": "XFCYoLdKmQNT"
      }
    },
    {
      "cell_type": "code",
      "source": [
        "model_df.info()"
      ],
      "metadata": {
        "colab": {
          "base_uri": "https://localhost:8080/"
        },
        "id": "250jRgB0smh-",
        "outputId": "fefde23e-989e-4268-b6c4-61482c6e3a78"
      },
      "execution_count": 4,
      "outputs": [
        {
          "output_type": "stream",
          "name": "stdout",
          "text": [
            "<class 'pandas.core.frame.DataFrame'>\n",
            "Index: 2493 entries, 03266 to 99403\n",
            "Data columns (total 10 columns):\n",
            " #   Column                      Non-Null Count  Dtype  \n",
            "---  ------                      --------------  -----  \n",
            " 0   EV_LEVEL_1                  2493 non-null   int64  \n",
            " 1   EV_LEVEL_2                  2493 non-null   int64  \n",
            " 2   EV_FAST                     2493 non-null   int64  \n",
            " 3   EV_TOTAL                    2493 non-null   int64  \n",
            " 4   NETWORK_TYPE_ChargePoint    2493 non-null   int64  \n",
            " 5   NETWORK_TYPE_Non_Networked  2493 non-null   int64  \n",
            " 6   NETWORK_TYPE_Other_Network  2493 non-null   int64  \n",
            " 7   TOTAL_HOUSEHOLDS            2493 non-null   float64\n",
            " 8   MEDIAN_INCOME               2493 non-null   float64\n",
            " 9   REG_COUNTS                  2493 non-null   int64  \n",
            "dtypes: float64(2), int64(8)\n",
            "memory usage: 214.2+ KB\n"
          ]
        }
      ]
    },
    {
      "cell_type": "code",
      "source": [
        "model_df.describe()"
      ],
      "metadata": {
        "colab": {
          "base_uri": "https://localhost:8080/",
          "height": 364
        },
        "id": "aM2Zy3W6hR2N",
        "outputId": "370b6338-e0bf-4e8b-df04-9eb56f3a84fb"
      },
      "execution_count": 5,
      "outputs": [
        {
          "output_type": "execute_result",
          "data": {
            "text/html": [
              "\n",
              "  <div id=\"df-7514c39f-8076-4328-b892-51b002315766\">\n",
              "    <div class=\"colab-df-container\">\n",
              "      <div>\n",
              "<style scoped>\n",
              "    .dataframe tbody tr th:only-of-type {\n",
              "        vertical-align: middle;\n",
              "    }\n",
              "\n",
              "    .dataframe tbody tr th {\n",
              "        vertical-align: top;\n",
              "    }\n",
              "\n",
              "    .dataframe thead th {\n",
              "        text-align: right;\n",
              "    }\n",
              "</style>\n",
              "<table border=\"1\" class=\"dataframe\">\n",
              "  <thead>\n",
              "    <tr style=\"text-align: right;\">\n",
              "      <th></th>\n",
              "      <th>EV_LEVEL_1</th>\n",
              "      <th>EV_LEVEL_2</th>\n",
              "      <th>EV_FAST</th>\n",
              "      <th>EV_TOTAL</th>\n",
              "      <th>NETWORK_TYPE_ChargePoint</th>\n",
              "      <th>NETWORK_TYPE_Non_Networked</th>\n",
              "      <th>NETWORK_TYPE_Other_Network</th>\n",
              "      <th>TOTAL_HOUSEHOLDS</th>\n",
              "      <th>MEDIAN_INCOME</th>\n",
              "      <th>REG_COUNTS</th>\n",
              "    </tr>\n",
              "  </thead>\n",
              "  <tbody>\n",
              "    <tr>\n",
              "      <th>count</th>\n",
              "      <td>2493.000000</td>\n",
              "      <td>2493.000000</td>\n",
              "      <td>2493.000000</td>\n",
              "      <td>2493.000000</td>\n",
              "      <td>2493.000000</td>\n",
              "      <td>2493.000000</td>\n",
              "      <td>2493.000000</td>\n",
              "      <td>2493.000000</td>\n",
              "      <td>2493.000000</td>\n",
              "      <td>2493.000000</td>\n",
              "    </tr>\n",
              "    <tr>\n",
              "      <th>mean</th>\n",
              "      <td>0.279182</td>\n",
              "      <td>8.221019</td>\n",
              "      <td>1.715604</td>\n",
              "      <td>8.500201</td>\n",
              "      <td>2.022062</td>\n",
              "      <td>0.697152</td>\n",
              "      <td>1.468111</td>\n",
              "      <td>8606.855195</td>\n",
              "      <td>73166.091456</td>\n",
              "      <td>963.609707</td>\n",
              "    </tr>\n",
              "    <tr>\n",
              "      <th>std</th>\n",
              "      <td>2.064343</td>\n",
              "      <td>14.277310</td>\n",
              "      <td>3.838397</td>\n",
              "      <td>14.614100</td>\n",
              "      <td>4.819944</td>\n",
              "      <td>1.474278</td>\n",
              "      <td>2.382783</td>\n",
              "      <td>6846.422036</td>\n",
              "      <td>30414.784624</td>\n",
              "      <td>1919.669506</td>\n",
              "    </tr>\n",
              "    <tr>\n",
              "      <th>min</th>\n",
              "      <td>0.000000</td>\n",
              "      <td>0.000000</td>\n",
              "      <td>0.000000</td>\n",
              "      <td>0.000000</td>\n",
              "      <td>0.000000</td>\n",
              "      <td>0.000000</td>\n",
              "      <td>0.000000</td>\n",
              "      <td>25.000000</td>\n",
              "      <td>10804.000000</td>\n",
              "      <td>0.000000</td>\n",
              "    </tr>\n",
              "    <tr>\n",
              "      <th>25%</th>\n",
              "      <td>0.000000</td>\n",
              "      <td>2.000000</td>\n",
              "      <td>0.000000</td>\n",
              "      <td>2.000000</td>\n",
              "      <td>0.000000</td>\n",
              "      <td>0.000000</td>\n",
              "      <td>0.000000</td>\n",
              "      <td>3047.000000</td>\n",
              "      <td>52492.000000</td>\n",
              "      <td>78.000000</td>\n",
              "    </tr>\n",
              "    <tr>\n",
              "      <th>50%</th>\n",
              "      <td>0.000000</td>\n",
              "      <td>4.000000</td>\n",
              "      <td>0.000000</td>\n",
              "      <td>4.000000</td>\n",
              "      <td>1.000000</td>\n",
              "      <td>0.000000</td>\n",
              "      <td>1.000000</td>\n",
              "      <td>7538.000000</td>\n",
              "      <td>65906.000000</td>\n",
              "      <td>303.000000</td>\n",
              "    </tr>\n",
              "    <tr>\n",
              "      <th>75%</th>\n",
              "      <td>0.000000</td>\n",
              "      <td>9.000000</td>\n",
              "      <td>1.000000</td>\n",
              "      <td>9.000000</td>\n",
              "      <td>2.000000</td>\n",
              "      <td>1.000000</td>\n",
              "      <td>2.000000</td>\n",
              "      <td>12502.000000</td>\n",
              "      <td>87311.000000</td>\n",
              "      <td>1038.000000</td>\n",
              "    </tr>\n",
              "    <tr>\n",
              "      <th>max</th>\n",
              "      <td>48.000000</td>\n",
              "      <td>227.000000</td>\n",
              "      <td>38.000000</td>\n",
              "      <td>227.000000</td>\n",
              "      <td>85.000000</td>\n",
              "      <td>45.000000</td>\n",
              "      <td>29.000000</td>\n",
              "      <td>41355.000000</td>\n",
              "      <td>240507.000000</td>\n",
              "      <td>29672.000000</td>\n",
              "    </tr>\n",
              "  </tbody>\n",
              "</table>\n",
              "</div>\n",
              "      <button class=\"colab-df-convert\" onclick=\"convertToInteractive('df-7514c39f-8076-4328-b892-51b002315766')\"\n",
              "              title=\"Convert this dataframe to an interactive table.\"\n",
              "              style=\"display:none;\">\n",
              "        \n",
              "  <svg xmlns=\"http://www.w3.org/2000/svg\" height=\"24px\"viewBox=\"0 0 24 24\"\n",
              "       width=\"24px\">\n",
              "    <path d=\"M0 0h24v24H0V0z\" fill=\"none\"/>\n",
              "    <path d=\"M18.56 5.44l.94 2.06.94-2.06 2.06-.94-2.06-.94-.94-2.06-.94 2.06-2.06.94zm-11 1L8.5 8.5l.94-2.06 2.06-.94-2.06-.94L8.5 2.5l-.94 2.06-2.06.94zm10 10l.94 2.06.94-2.06 2.06-.94-2.06-.94-.94-2.06-.94 2.06-2.06.94z\"/><path d=\"M17.41 7.96l-1.37-1.37c-.4-.4-.92-.59-1.43-.59-.52 0-1.04.2-1.43.59L10.3 9.45l-7.72 7.72c-.78.78-.78 2.05 0 2.83L4 21.41c.39.39.9.59 1.41.59.51 0 1.02-.2 1.41-.59l7.78-7.78 2.81-2.81c.8-.78.8-2.07 0-2.86zM5.41 20L4 18.59l7.72-7.72 1.47 1.35L5.41 20z\"/>\n",
              "  </svg>\n",
              "      </button>\n",
              "      \n",
              "  <style>\n",
              "    .colab-df-container {\n",
              "      display:flex;\n",
              "      flex-wrap:wrap;\n",
              "      gap: 12px;\n",
              "    }\n",
              "\n",
              "    .colab-df-convert {\n",
              "      background-color: #E8F0FE;\n",
              "      border: none;\n",
              "      border-radius: 50%;\n",
              "      cursor: pointer;\n",
              "      display: none;\n",
              "      fill: #1967D2;\n",
              "      height: 32px;\n",
              "      padding: 0 0 0 0;\n",
              "      width: 32px;\n",
              "    }\n",
              "\n",
              "    .colab-df-convert:hover {\n",
              "      background-color: #E2EBFA;\n",
              "      box-shadow: 0px 1px 2px rgba(60, 64, 67, 0.3), 0px 1px 3px 1px rgba(60, 64, 67, 0.15);\n",
              "      fill: #174EA6;\n",
              "    }\n",
              "\n",
              "    [theme=dark] .colab-df-convert {\n",
              "      background-color: #3B4455;\n",
              "      fill: #D2E3FC;\n",
              "    }\n",
              "\n",
              "    [theme=dark] .colab-df-convert:hover {\n",
              "      background-color: #434B5C;\n",
              "      box-shadow: 0px 1px 3px 1px rgba(0, 0, 0, 0.15);\n",
              "      filter: drop-shadow(0px 1px 2px rgba(0, 0, 0, 0.3));\n",
              "      fill: #FFFFFF;\n",
              "    }\n",
              "  </style>\n",
              "\n",
              "      <script>\n",
              "        const buttonEl =\n",
              "          document.querySelector('#df-7514c39f-8076-4328-b892-51b002315766 button.colab-df-convert');\n",
              "        buttonEl.style.display =\n",
              "          google.colab.kernel.accessAllowed ? 'block' : 'none';\n",
              "\n",
              "        async function convertToInteractive(key) {\n",
              "          const element = document.querySelector('#df-7514c39f-8076-4328-b892-51b002315766');\n",
              "          const dataTable =\n",
              "            await google.colab.kernel.invokeFunction('convertToInteractive',\n",
              "                                                     [key], {});\n",
              "          if (!dataTable) return;\n",
              "\n",
              "          const docLinkHtml = 'Like what you see? Visit the ' +\n",
              "            '<a target=\"_blank\" href=https://colab.research.google.com/notebooks/data_table.ipynb>data table notebook</a>'\n",
              "            + ' to learn more about interactive tables.';\n",
              "          element.innerHTML = '';\n",
              "          dataTable['output_type'] = 'display_data';\n",
              "          await google.colab.output.renderOutput(dataTable, element);\n",
              "          const docLink = document.createElement('div');\n",
              "          docLink.innerHTML = docLinkHtml;\n",
              "          element.appendChild(docLink);\n",
              "        }\n",
              "      </script>\n",
              "    </div>\n",
              "  </div>\n",
              "  "
            ],
            "text/plain": [
              "        EV_LEVEL_1   EV_LEVEL_2  ...  MEDIAN_INCOME    REG_COUNTS\n",
              "count  2493.000000  2493.000000  ...    2493.000000   2493.000000\n",
              "mean      0.279182     8.221019  ...   73166.091456    963.609707\n",
              "std       2.064343    14.277310  ...   30414.784624   1919.669506\n",
              "min       0.000000     0.000000  ...   10804.000000      0.000000\n",
              "25%       0.000000     2.000000  ...   52492.000000     78.000000\n",
              "50%       0.000000     4.000000  ...   65906.000000    303.000000\n",
              "75%       0.000000     9.000000  ...   87311.000000   1038.000000\n",
              "max      48.000000   227.000000  ...  240507.000000  29672.000000\n",
              "\n",
              "[8 rows x 10 columns]"
            ]
          },
          "metadata": {},
          "execution_count": 5
        }
      ]
    },
    {
      "cell_type": "code",
      "source": [
        "model_df.hist(bins=20, figsize=(15,15))\n",
        "plt.show"
      ],
      "metadata": {
        "colab": {
          "base_uri": "https://localhost:8080/",
          "height": 897
        },
        "id": "97KR1n1pF84w",
        "outputId": "5cce3d25-7895-444b-9f32-f0833f35bdbe"
      },
      "execution_count": 6,
      "outputs": [
        {
          "output_type": "execute_result",
          "data": {
            "text/plain": [
              "<function matplotlib.pyplot.show>"
            ]
          },
          "metadata": {},
          "execution_count": 6
        },
        {
          "output_type": "display_data",
          "data": {
            "image/png": "[encoded data removed]",
            "text/plain": [
              "<Figure size 1080x1080 with 12 Axes>"
            ]
          },
          "metadata": {
            "needs_background": "light"
          }
        }
      ]
    },
    {
      "cell_type": "code",
      "source": [
        "sns.set_palette('colorblind')\n",
        "sns.pairplot(data=model_df,\n",
        "             y_vars=['REG_COUNTS'],\n",
        "             x_vars=['EV_LEVEL_1', 'EV_LEVEL_2', 'EV_FAST', 'EV_TOTAL',\n",
        "                    'NETWORK_TYPE_ChargePoint',\t'NETWORK_TYPE_Non_Networked',\t'NETWORK_TYPE_Other_Network',\n",
        "                    'TOTAL_HOUSEHOLDS',\t'MEDIAN_INCOME'],\n",
        "             height=3)"
      ],
      "metadata": {
        "colab": {
          "base_uri": "https://localhost:8080/",
          "height": 190
        },
        "id": "3sZoINtfhRBT",
        "outputId": "735547ec-a1fc-4bf9-bbfa-5d26b85f950a"
      },
      "execution_count": 7,
      "outputs": [
        {
          "output_type": "execute_result",
          "data": {
            "text/plain": [
              "<seaborn.axisgrid.PairGrid at 0x7f5358c4b210>"
            ]
          },
          "metadata": {},
          "execution_count": 7
        },
        {
          "output_type": "display_data",
          "data": {
            "image/png": "[encoded data removed]",
            "text/plain": [
              "<Figure size 1944x216 with 9 Axes>"
            ]
          },
          "metadata": {
            "needs_background": "light"
          }
        }
      ]
    },
    {
      "cell_type": "code",
      "source": [
        "corr_matrix = model_df.corr()\n",
        "corr_matrix['REG_COUNTS'].sort_values(ascending=False)"
      ],
      "metadata": {
        "colab": {
          "base_uri": "https://localhost:8080/"
        },
        "id": "0VBH38n-aDb6",
        "outputId": "59652c96-3d1f-4d7b-f70c-af5d31150e3e"
      },
      "execution_count": 8,
      "outputs": [
        {
          "output_type": "execute_result",
          "data": {
            "text/plain": [
              "REG_COUNTS                    1.000000\n",
              "MEDIAN_INCOME                 0.384177\n",
              "EV_LEVEL_2                    0.340083\n",
              "EV_TOTAL                      0.331250\n",
              "TOTAL_HOUSEHOLDS              0.329099\n",
              "NETWORK_TYPE_Other_Network    0.328102\n",
              "NETWORK_TYPE_ChargePoint      0.288295\n",
              "EV_FAST                       0.127180\n",
              "NETWORK_TYPE_Non_Networked    0.037561\n",
              "EV_LEVEL_1                   -0.007052\n",
              "Name: REG_COUNTS, dtype: float64"
            ]
          },
          "metadata": {},
          "execution_count": 8
        }
      ]
    },
    {
      "cell_type": "markdown",
      "source": [
        "# Scaling & Normalization"
      ],
      "metadata": {
        "id": "EbG6Q27gpt5t"
      }
    },
    {
      "cell_type": "code",
      "source": [
        "scaler = StandardScaler()"
      ],
      "metadata": {
        "id": "AAsb4Icopz4a"
      },
      "execution_count": 9,
      "outputs": []
    },
    {
      "cell_type": "code",
      "source": [
        "scaled_data = scaler.fit_transform(model_df)"
      ],
      "metadata": {
        "id": "aTDCzQJJp7XB"
      },
      "execution_count": 10,
      "outputs": []
    },
    {
      "cell_type": "code",
      "source": [
        "scaled_df = pd.DataFrame(scaled_data, index=model_df.index, columns=model_df.columns)\n",
        "scaled_df.head()"
      ],
      "metadata": {
        "colab": {
          "base_uri": "https://localhost:8080/",
          "height": 301
        },
        "id": "EDsMLYPIw3vg",
        "outputId": "881bc8ba-d1e3-47d7-a728-5c3918f258f7"
      },
      "execution_count": 11,
      "outputs": [
        {
          "output_type": "execute_result",
          "data": {
            "text/html": [
              "\n",
              "  <div id=\"df-30b6eab9-6d5c-4220-a491-8c98b88bc501\">\n",
              "    <div class=\"colab-df-container\">\n",
              "      <div>\n",
              "<style scoped>\n",
              "    .dataframe tbody tr th:only-of-type {\n",
              "        vertical-align: middle;\n",
              "    }\n",
              "\n",
              "    .dataframe tbody tr th {\n",
              "        vertical-align: top;\n",
              "    }\n",
              "\n",
              "    .dataframe thead th {\n",
              "        text-align: right;\n",
              "    }\n",
              "</style>\n",
              "<table border=\"1\" class=\"dataframe\">\n",
              "  <thead>\n",
              "    <tr style=\"text-align: right;\">\n",
              "      <th></th>\n",
              "      <th>EV_LEVEL_1</th>\n",
              "      <th>EV_LEVEL_2</th>\n",
              "      <th>EV_FAST</th>\n",
              "      <th>EV_TOTAL</th>\n",
              "      <th>NETWORK_TYPE_ChargePoint</th>\n",
              "      <th>NETWORK_TYPE_Non_Networked</th>\n",
              "      <th>NETWORK_TYPE_Other_Network</th>\n",
              "      <th>TOTAL_HOUSEHOLDS</th>\n",
              "      <th>MEDIAN_INCOME</th>\n",
              "      <th>REG_COUNTS</th>\n",
              "    </tr>\n",
              "    <tr>\n",
              "      <th>ZIP_CODE</th>\n",
              "      <th></th>\n",
              "      <th></th>\n",
              "      <th></th>\n",
              "      <th></th>\n",
              "      <th></th>\n",
              "      <th></th>\n",
              "      <th></th>\n",
              "      <th></th>\n",
              "      <th></th>\n",
              "      <th></th>\n",
              "    </tr>\n",
              "  </thead>\n",
              "  <tbody>\n",
              "    <tr>\n",
              "      <th>03266</th>\n",
              "      <td>-0.135267</td>\n",
              "      <td>-0.435815</td>\n",
              "      <td>-0.447048</td>\n",
              "      <td>-0.444879</td>\n",
              "      <td>-0.419604</td>\n",
              "      <td>0.205462</td>\n",
              "      <td>-0.616256</td>\n",
              "      <td>-1.133061</td>\n",
              "      <td>-0.600555</td>\n",
              "      <td>-0.502067</td>\n",
              "    </tr>\n",
              "    <tr>\n",
              "      <th>07001</th>\n",
              "      <td>-0.135267</td>\n",
              "      <td>-0.505870</td>\n",
              "      <td>-0.447048</td>\n",
              "      <td>-0.513320</td>\n",
              "      <td>-0.419604</td>\n",
              "      <td>0.205462</td>\n",
              "      <td>-0.616256</td>\n",
              "      <td>-0.523715</td>\n",
              "      <td>-0.109084</td>\n",
              "      <td>-0.411929</td>\n",
              "    </tr>\n",
              "    <tr>\n",
              "      <th>07003</th>\n",
              "      <td>-0.135267</td>\n",
              "      <td>0.264737</td>\n",
              "      <td>0.855840</td>\n",
              "      <td>0.239529</td>\n",
              "      <td>0.410448</td>\n",
              "      <td>0.205462</td>\n",
              "      <td>0.643028</td>\n",
              "      <td>1.456548</td>\n",
              "      <td>0.160083</td>\n",
              "      <td>-0.085245</td>\n",
              "    </tr>\n",
              "    <tr>\n",
              "      <th>07004</th>\n",
              "      <td>-0.135267</td>\n",
              "      <td>-0.155594</td>\n",
              "      <td>0.334685</td>\n",
              "      <td>-0.171116</td>\n",
              "      <td>-0.419604</td>\n",
              "      <td>0.205462</td>\n",
              "      <td>0.223267</td>\n",
              "      <td>-0.874480</td>\n",
              "      <td>1.607992</td>\n",
              "      <td>-0.341591</td>\n",
              "    </tr>\n",
              "    <tr>\n",
              "      <th>07005</th>\n",
              "      <td>-0.135267</td>\n",
              "      <td>-0.505870</td>\n",
              "      <td>2.158729</td>\n",
              "      <td>-0.513320</td>\n",
              "      <td>-0.419604</td>\n",
              "      <td>0.205462</td>\n",
              "      <td>-0.196495</td>\n",
              "      <td>-0.455491</td>\n",
              "      <td>1.275291</td>\n",
              "      <td>-0.269689</td>\n",
              "    </tr>\n",
              "  </tbody>\n",
              "</table>\n",
              "</div>\n",
              "      <button class=\"colab-df-convert\" onclick=\"convertToInteractive('df-30b6eab9-6d5c-4220-a491-8c98b88bc501')\"\n",
              "              title=\"Convert this dataframe to an interactive table.\"\n",
              "              style=\"display:none;\">\n",
              "        \n",
              "  <svg xmlns=\"http://www.w3.org/2000/svg\" height=\"24px\"viewBox=\"0 0 24 24\"\n",
              "       width=\"24px\">\n",
              "    <path d=\"M0 0h24v24H0V0z\" fill=\"none\"/>\n",
              "    <path d=\"M18.56 5.44l.94 2.06.94-2.06 2.06-.94-2.06-.94-.94-2.06-.94 2.06-2.06.94zm-11 1L8.5 8.5l.94-2.06 2.06-.94-2.06-.94L8.5 2.5l-.94 2.06-2.06.94zm10 10l.94 2.06.94-2.06 2.06-.94-2.06-.94-.94-2.06-.94 2.06-2.06.94z\"/><path d=\"M17.41 7.96l-1.37-1.37c-.4-.4-.92-.59-1.43-.59-.52 0-1.04.2-1.43.59L10.3 9.45l-7.72 7.72c-.78.78-.78 2.05 0 2.83L4 21.41c.39.39.9.59 1.41.59.51 0 1.02-.2 1.41-.59l7.78-7.78 2.81-2.81c.8-.78.8-2.07 0-2.86zM5.41 20L4 18.59l7.72-7.72 1.47 1.35L5.41 20z\"/>\n",
              "  </svg>\n",
              "      </button>\n",
              "      \n",
              "  <style>\n",
              "    .colab-df-container {\n",
              "      display:flex;\n",
              "      flex-wrap:wrap;\n",
              "      gap: 12px;\n",
              "    }\n",
              "\n",
              "    .colab-df-convert {\n",
              "      background-color: #E8F0FE;\n",
              "      border: none;\n",
              "      border-radius: 50%;\n",
              "      cursor: pointer;\n",
              "      display: none;\n",
              "      fill: #1967D2;\n",
              "      height: 32px;\n",
              "      padding: 0 0 0 0;\n",
              "      width: 32px;\n",
              "    }\n",
              "\n",
              "    .colab-df-convert:hover {\n",
              "      background-color: #E2EBFA;\n",
              "      box-shadow: 0px 1px 2px rgba(60, 64, 67, 0.3), 0px 1px 3px 1px rgba(60, 64, 67, 0.15);\n",
              "      fill: #174EA6;\n",
              "    }\n",
              "\n",
              "    [theme=dark] .colab-df-convert {\n",
              "      background-color: #3B4455;\n",
              "      fill: #D2E3FC;\n",
              "    }\n",
              "\n",
              "    [theme=dark] .colab-df-convert:hover {\n",
              "      background-color: #434B5C;\n",
              "      box-shadow: 0px 1px 3px 1px rgba(0, 0, 0, 0.15);\n",
              "      filter: drop-shadow(0px 1px 2px rgba(0, 0, 0, 0.3));\n",
              "      fill: #FFFFFF;\n",
              "    }\n",
              "  </style>\n",
              "\n",
              "      <script>\n",
              "        const buttonEl =\n",
              "          document.querySelector('#df-30b6eab9-6d5c-4220-a491-8c98b88bc501 button.colab-df-convert');\n",
              "        buttonEl.style.display =\n",
              "          google.colab.kernel.accessAllowed ? 'block' : 'none';\n",
              "\n",
              "        async function convertToInteractive(key) {\n",
              "          const element = document.querySelector('#df-30b6eab9-6d5c-4220-a491-8c98b88bc501');\n",
              "          const dataTable =\n",
              "            await google.colab.kernel.invokeFunction('convertToInteractive',\n",
              "                                                     [key], {});\n",
              "          if (!dataTable) return;\n",
              "\n",
              "          const docLinkHtml = 'Like what you see? Visit the ' +\n",
              "            '<a target=\"_blank\" href=https://colab.research.google.com/notebooks/data_table.ipynb>data table notebook</a>'\n",
              "            + ' to learn more about interactive tables.';\n",
              "          element.innerHTML = '';\n",
              "          dataTable['output_type'] = 'display_data';\n",
              "          await google.colab.output.renderOutput(dataTable, element);\n",
              "          const docLink = document.createElement('div');\n",
              "          docLink.innerHTML = docLinkHtml;\n",
              "          element.appendChild(docLink);\n",
              "        }\n",
              "      </script>\n",
              "    </div>\n",
              "  </div>\n",
              "  "
            ],
            "text/plain": [
              "          EV_LEVEL_1  EV_LEVEL_2  ...  MEDIAN_INCOME  REG_COUNTS\n",
              "ZIP_CODE                          ...                           \n",
              "03266      -0.135267   -0.435815  ...      -0.600555   -0.502067\n",
              "07001      -0.135267   -0.505870  ...      -0.109084   -0.411929\n",
              "07003      -0.135267    0.264737  ...       0.160083   -0.085245\n",
              "07004      -0.135267   -0.155594  ...       1.607992   -0.341591\n",
              "07005      -0.135267   -0.505870  ...       1.275291   -0.269689\n",
              "\n",
              "[5 rows x 10 columns]"
            ]
          },
          "metadata": {},
          "execution_count": 11
        }
      ]
    },
    {
      "cell_type": "code",
      "source": [
        "y = scaled_df.REG_COUNTS\n",
        "y.shape"
      ],
      "metadata": {
        "colab": {
          "base_uri": "https://localhost:8080/"
        },
        "id": "UNUjDBYkkYix",
        "outputId": "c1db8d77-ab12-436d-e7f4-8d1cab130d93"
      },
      "execution_count": 12,
      "outputs": [
        {
          "output_type": "execute_result",
          "data": {
            "text/plain": [
              "(2493,)"
            ]
          },
          "metadata": {},
          "execution_count": 12
        }
      ]
    },
    {
      "cell_type": "code",
      "source": [
        "X = scaled_df.drop(['REG_COUNTS'], axis=1)\n",
        "X.shape"
      ],
      "metadata": {
        "id": "d7rcUjzskq5a",
        "colab": {
          "base_uri": "https://localhost:8080/"
        },
        "outputId": "bb582b93-bb32-4c5a-b363-95ac6e580e6c"
      },
      "execution_count": 13,
      "outputs": [
        {
          "output_type": "execute_result",
          "data": {
            "text/plain": [
              "(2493, 9)"
            ]
          },
          "metadata": {},
          "execution_count": 13
        }
      ]
    },
    {
      "cell_type": "markdown",
      "source": [
        "# Linear Regression\n",
        "\n",
        "Early version of linear regression model using one feature to make target predictions. This section was used to test the viability of the dataset and model."
      ],
      "metadata": {
        "id": "N6b6JDwLRbqR"
      }
    },
    {
      "cell_type": "code",
      "source": [
        "X_scaled = scaled_df.EV_TOTAL.values.reshape(-1,1)"
      ],
      "metadata": {
        "id": "n615mJwny-5W"
      },
      "execution_count": 14,
      "outputs": []
    },
    {
      "cell_type": "code",
      "source": [
        "# Split the data into training/testing sets\n",
        "X_train, X_test, y_train, y_test = train_test_split(X_scaled, y, test_size=0.33, random_state=42)"
      ],
      "metadata": {
        "id": "QOmSBY46yoIu"
      },
      "execution_count": 15,
      "outputs": []
    },
    {
      "cell_type": "code",
      "source": [
        "# Train the model using the training sets\n",
        "lin_model = LinearRegression()\n",
        "lin_model.fit(X_train, y_train)"
      ],
      "metadata": {
        "colab": {
          "base_uri": "https://localhost:8080/"
        },
        "id": "nBMS3udwambd",
        "outputId": "4cf59b4d-8e4a-4973-e502-afddac67ba53"
      },
      "execution_count": 16,
      "outputs": [
        {
          "output_type": "execute_result",
          "data": {
            "text/plain": [
              "LinearRegression()"
            ]
          },
          "metadata": {},
          "execution_count": 16
        }
      ]
    },
    {
      "cell_type": "code",
      "source": [
        "# Make predictions using the testing set\n",
        "y_pred = lin_model.predict(X_test)\n",
        "print(y_pred.shape)"
      ],
      "metadata": {
        "colab": {
          "base_uri": "https://localhost:8080/"
        },
        "id": "Cb7SnzRayboW",
        "outputId": "c74658f0-95ae-446f-f104-4e4c5530eca1"
      },
      "execution_count": 17,
      "outputs": [
        {
          "output_type": "stream",
          "name": "stdout",
          "text": [
            "(823,)\n"
          ]
        }
      ]
    },
    {
      "cell_type": "code",
      "source": [
        "plt.scatter(X_test, y_test)\n",
        "plt.xlabel('Total EV Chargers')\n",
        "plt.ylabel('Registration Counts')\n",
        "plt.plot(X_test, y_pred, color='red')\n",
        "plt.show()"
      ],
      "metadata": {
        "colab": {
          "base_uri": "https://localhost:8080/",
          "height": 278
        },
        "id": "bEIXw0fi1jzm",
        "outputId": "641081f6-7f47-42fa-ca08-49c933d87ad6"
      },
      "execution_count": 18,
      "outputs": [
        {
          "output_type": "display_data",
          "data": {
            "image/png": "[encoded data removed]",
            "text/plain": [
              "<Figure size 432x288 with 1 Axes>"
            ]
          },
          "metadata": {
            "needs_background": "light"
          }
        }
      ]
    },
    {
      "cell_type": "code",
      "source": [
        "# The coefficients\n",
        "print(\"Coefficients: \\n\", lin_model.coef_)\n",
        "# The mean squared error\n",
        "print(\"Mean squared error: %.2f\" % mean_squared_error(y_test, y_pred))\n",
        "# The coefficient of determination: 1 is perfect prediction\n",
        "print(\"Coefficient of determination: %.2f\" % r2_score(y_test, y_pred))"
      ],
      "metadata": {
        "colab": {
          "base_uri": "https://localhost:8080/"
        },
        "id": "ss0k74m0lPT6",
        "outputId": "9e1bd8d2-a8ac-4697-8332-aa7d525e1ed4"
      },
      "execution_count": 19,
      "outputs": [
        {
          "output_type": "stream",
          "name": "stdout",
          "text": [
            "Coefficients: \n",
            " [0.32814752]\n",
            "Mean squared error: 0.82\n",
            "Coefficient of determination: 0.11\n"
          ]
        }
      ]
    },
    {
      "cell_type": "markdown",
      "source": [
        "# Multivariable Linear Regression\n",
        "\n",
        "Advanced version of linear regression model using all features in the dataset. This early work was used to develop the final version of the model."
      ],
      "metadata": {
        "id": "oFpEXwB7Qe3A"
      }
    },
    {
      "cell_type": "code",
      "source": [
        "multi_X = scaled_df[['EV_LEVEL_1', 'EV_LEVEL_2', 'EV_FAST', 'EV_TOTAL',\n",
        "                    'NETWORK_TYPE_ChargePoint',\t'NETWORK_TYPE_Non_Networked',\t'NETWORK_TYPE_Other_Network',\n",
        "                    'TOTAL_HOUSEHOLDS',\t'MEDIAN_INCOME']]\n",
        "\n",
        "# multi_X = model_df[['EV_LEVEL_2', 'EV_FAST']]\n",
        "\n",
        "multi_X.shape"
      ],
      "metadata": {
        "colab": {
          "base_uri": "https://localhost:8080/"
        },
        "id": "i79B9Mc3RAj6",
        "outputId": "be1a1af5-dec6-41eb-d278-10ab2589e7b4"
      },
      "execution_count": 20,
      "outputs": [
        {
          "output_type": "execute_result",
          "data": {
            "text/plain": [
              "(2493, 9)"
            ]
          },
          "metadata": {},
          "execution_count": 20
        }
      ]
    },
    {
      "cell_type": "code",
      "source": [
        "# Split the data into training/testing sets\n",
        "multi_X_train, multi_X_test, multi_y_train, multi_y_test = train_test_split(multi_X, y, test_size=0.33, random_state=42)"
      ],
      "metadata": {
        "id": "0mFEWzEDRiTP"
      },
      "execution_count": 21,
      "outputs": []
    },
    {
      "cell_type": "code",
      "source": [
        "# Train the model using the training sets\n",
        "multi_lin = LinearRegression()\n",
        "multi_lin.fit(multi_X_train, multi_y_train)"
      ],
      "metadata": {
        "colab": {
          "base_uri": "https://localhost:8080/"
        },
        "id": "B-PYnQjLRube",
        "outputId": "0d60bee6-f632-4ef8-ee89-4c09c4545262"
      },
      "execution_count": 22,
      "outputs": [
        {
          "output_type": "execute_result",
          "data": {
            "text/plain": [
              "LinearRegression()"
            ]
          },
          "metadata": {},
          "execution_count": 22
        }
      ]
    },
    {
      "cell_type": "code",
      "source": [
        "# Make predictions using the testing set\n",
        "multi_y_pred = multi_lin.predict(multi_X_test)\n",
        "print(multi_y_pred.shape)"
      ],
      "metadata": {
        "colab": {
          "base_uri": "https://localhost:8080/"
        },
        "id": "1xWGdsbhJMEt",
        "outputId": "9ffe7ead-2cbb-4bff-9074-a1256ca60516"
      },
      "execution_count": 23,
      "outputs": [
        {
          "output_type": "stream",
          "name": "stdout",
          "text": [
            "(823,)\n"
          ]
        }
      ]
    },
    {
      "cell_type": "markdown",
      "source": [
        "# Performance"
      ],
      "metadata": {
        "id": "HjpIqXpQcEz5"
      }
    },
    {
      "cell_type": "code",
      "source": [
        "# intercept\n",
        "print('Intercept:', multi_lin.intercept_)\n",
        "# The coefficients\n",
        "print(\"Coefficients: \\n\", multi_lin.coef_)\n",
        "# explained variance score\n",
        "print(\"Explained Variance Score: %.2f \\n\" % explained_variance_score(multi_y_test, multi_y_pred))\n",
        "# Max Error\n",
        "print(\"Max Error: %.2f \\n\" % max_error(multi_y_test, multi_y_pred))\n",
        "# Mean Absolute Error\n",
        "print(\"Mean Absolute Error: %.2f \\n\" % mean_absolute_error(multi_y_test, multi_y_pred))\n",
        "# The mean squared error\n",
        "print(\"Mean Squared error: %.2f \\n\" % mean_squared_error(multi_y_test, multi_y_pred))\n",
        "# The coefficient of determination: 1 is perfect prediction\n",
        "print(\"Coefficient of determination: %.2f\" % r2_score(multi_y_test, multi_y_pred))"
      ],
      "metadata": {
        "colab": {
          "base_uri": "https://localhost:8080/"
        },
        "id": "_nTmF-8fezGf",
        "outputId": "0b2c6fe8-e471-4488-d587-7e493ebcc481"
      },
      "execution_count": 24,
      "outputs": [
        {
          "output_type": "stream",
          "name": "stdout",
          "text": [
            "Intercept: -0.005543530641394393\n",
            "Coefficients: \n",
            " [ 2.80845787e+11  1.94237201e+12  3.72314453e-03 -1.98819102e+12\n",
            "  3.04794312e-01  2.12402344e-02  2.06245422e-01  2.27378845e-01\n",
            "  3.47946167e-01]\n",
            "Explained Variance Score: 0.32 \n",
            "\n",
            "Max Error: 6.74 \n",
            "\n",
            "Mean Absolute Error: 0.41 \n",
            "\n",
            "Mean Squared error: 0.63 \n",
            "\n",
            "Coefficient of determination: 0.32\n"
          ]
        }
      ]
    },
    {
      "cell_type": "markdown",
      "source": [
        "#Visualizing Predictions"
      ],
      "metadata": {
        "id": "gmMbU208eIlL"
      }
    },
    {
      "cell_type": "code",
      "source": [
        "predictions_df = pd.DataFrame(multi_y_pred, index=multi_X_test.index, columns=[\"REG_PREDICT\"])"
      ],
      "metadata": {
        "id": "rXlFKrB8KWo6"
      },
      "execution_count": 25,
      "outputs": []
    },
    {
      "cell_type": "code",
      "source": [
        "predictions_df.head()"
      ],
      "metadata": {
        "colab": {
          "base_uri": "https://localhost:8080/",
          "height": 237
        },
        "id": "RMxrINZTPSW7",
        "outputId": "f2c11bcd-4d3d-4b53-bee5-77f9a609d7cd"
      },
      "execution_count": 26,
      "outputs": [
        {
          "output_type": "execute_result",
          "data": {
            "text/html": [
              "\n",
              "  <div id=\"df-961cc05c-3c5f-4559-966a-d15d2b325b5b\">\n",
              "    <div class=\"colab-df-container\">\n",
              "      <div>\n",
              "<style scoped>\n",
              "    .dataframe tbody tr th:only-of-type {\n",
              "        vertical-align: middle;\n",
              "    }\n",
              "\n",
              "    .dataframe tbody tr th {\n",
              "        vertical-align: top;\n",
              "    }\n",
              "\n",
              "    .dataframe thead th {\n",
              "        text-align: right;\n",
              "    }\n",
              "</style>\n",
              "<table border=\"1\" class=\"dataframe\">\n",
              "  <thead>\n",
              "    <tr style=\"text-align: right;\">\n",
              "      <th></th>\n",
              "      <th>REG_PREDICT</th>\n",
              "    </tr>\n",
              "    <tr>\n",
              "      <th>ZIP_CODE</th>\n",
              "      <th></th>\n",
              "    </tr>\n",
              "  </thead>\n",
              "  <tbody>\n",
              "    <tr>\n",
              "      <th>97914</th>\n",
              "      <td>-0.528766</td>\n",
              "    </tr>\n",
              "    <tr>\n",
              "      <th>97138</th>\n",
              "      <td>-0.410243</td>\n",
              "    </tr>\n",
              "    <tr>\n",
              "      <th>55411</th>\n",
              "      <td>-0.427996</td>\n",
              "    </tr>\n",
              "    <tr>\n",
              "      <th>97420</th>\n",
              "      <td>-0.128072</td>\n",
              "    </tr>\n",
              "    <tr>\n",
              "      <th>49426</th>\n",
              "      <td>0.246269</td>\n",
              "    </tr>\n",
              "  </tbody>\n",
              "</table>\n",
              "</div>\n",
              "      <button class=\"colab-df-convert\" onclick=\"convertToInteractive('df-961cc05c-3c5f-4559-966a-d15d2b325b5b')\"\n",
              "              title=\"Convert this dataframe to an interactive table.\"\n",
              "              style=\"display:none;\">\n",
              "        \n",
              "  <svg xmlns=\"http://www.w3.org/2000/svg\" height=\"24px\"viewBox=\"0 0 24 24\"\n",
              "       width=\"24px\">\n",
              "    <path d=\"M0 0h24v24H0V0z\" fill=\"none\"/>\n",
              "    <path d=\"M18.56 5.44l.94 2.06.94-2.06 2.06-.94-2.06-.94-.94-2.06-.94 2.06-2.06.94zm-11 1L8.5 8.5l.94-2.06 2.06-.94-2.06-.94L8.5 2.5l-.94 2.06-2.06.94zm10 10l.94 2.06.94-2.06 2.06-.94-2.06-.94-.94-2.06-.94 2.06-2.06.94z\"/><path d=\"M17.41 7.96l-1.37-1.37c-.4-.4-.92-.59-1.43-.59-.52 0-1.04.2-1.43.59L10.3 9.45l-7.72 7.72c-.78.78-.78 2.05 0 2.83L4 21.41c.39.39.9.59 1.41.59.51 0 1.02-.2 1.41-.59l7.78-7.78 2.81-2.81c.8-.78.8-2.07 0-2.86zM5.41 20L4 18.59l7.72-7.72 1.47 1.35L5.41 20z\"/>\n",
              "  </svg>\n",
              "      </button>\n",
              "      \n",
              "  <style>\n",
              "    .colab-df-container {\n",
              "      display:flex;\n",
              "      flex-wrap:wrap;\n",
              "      gap: 12px;\n",
              "    }\n",
              "\n",
              "    .colab-df-convert {\n",
              "      background-color: #E8F0FE;\n",
              "      border: none;\n",
              "      border-radius: 50%;\n",
              "      cursor: pointer;\n",
              "      display: none;\n",
              "      fill: #1967D2;\n",
              "      height: 32px;\n",
              "      padding: 0 0 0 0;\n",
              "      width: 32px;\n",
              "    }\n",
              "\n",
              "    .colab-df-convert:hover {\n",
              "      background-color: #E2EBFA;\n",
              "      box-shadow: 0px 1px 2px rgba(60, 64, 67, 0.3), 0px 1px 3px 1px rgba(60, 64, 67, 0.15);\n",
              "      fill: #174EA6;\n",
              "    }\n",
              "\n",
              "    [theme=dark] .colab-df-convert {\n",
              "      background-color: #3B4455;\n",
              "      fill: #D2E3FC;\n",
              "    }\n",
              "\n",
              "    [theme=dark] .colab-df-convert:hover {\n",
              "      background-color: #434B5C;\n",
              "      box-shadow: 0px 1px 3px 1px rgba(0, 0, 0, 0.15);\n",
              "      filter: drop-shadow(0px 1px 2px rgba(0, 0, 0, 0.3));\n",
              "      fill: #FFFFFF;\n",
              "    }\n",
              "  </style>\n",
              "\n",
              "      <script>\n",
              "        const buttonEl =\n",
              "          document.querySelector('#df-961cc05c-3c5f-4559-966a-d15d2b325b5b button.colab-df-convert');\n",
              "        buttonEl.style.display =\n",
              "          google.colab.kernel.accessAllowed ? 'block' : 'none';\n",
              "\n",
              "        async function convertToInteractive(key) {\n",
              "          const element = document.querySelector('#df-961cc05c-3c5f-4559-966a-d15d2b325b5b');\n",
              "          const dataTable =\n",
              "            await google.colab.kernel.invokeFunction('convertToInteractive',\n",
              "                                                     [key], {});\n",
              "          if (!dataTable) return;\n",
              "\n",
              "          const docLinkHtml = 'Like what you see? Visit the ' +\n",
              "            '<a target=\"_blank\" href=https://colab.research.google.com/notebooks/data_table.ipynb>data table notebook</a>'\n",
              "            + ' to learn more about interactive tables.';\n",
              "          element.innerHTML = '';\n",
              "          dataTable['output_type'] = 'display_data';\n",
              "          await google.colab.output.renderOutput(dataTable, element);\n",
              "          const docLink = document.createElement('div');\n",
              "          docLink.innerHTML = docLinkHtml;\n",
              "          element.appendChild(docLink);\n",
              "        }\n",
              "      </script>\n",
              "    </div>\n",
              "  </div>\n",
              "  "
            ],
            "text/plain": [
              "          REG_PREDICT\n",
              "ZIP_CODE             \n",
              "97914       -0.528766\n",
              "97138       -0.410243\n",
              "55411       -0.427996\n",
              "97420       -0.128072\n",
              "49426        0.246269"
            ]
          },
          "metadata": {},
          "execution_count": 26
        }
      ]
    },
    {
      "cell_type": "code",
      "source": [
        "ml_out_df = multi_X_test.merge(predictions_df, how='left', on='ZIP_CODE')"
      ],
      "metadata": {
        "id": "BWUACiVwQ-z8"
      },
      "execution_count": 27,
      "outputs": []
    },
    {
      "cell_type": "code",
      "source": [
        "ml_out_df"
      ],
      "metadata": {
        "colab": {
          "base_uri": "https://localhost:8080/",
          "height": 518
        },
        "id": "yKGUq2tmRTaP",
        "outputId": "305c2c19-6220-4a15-fad2-cd454f5fdf7a"
      },
      "execution_count": 28,
      "outputs": [
        {
          "output_type": "execute_result",
          "data": {
            "text/html": [
              "\n",
              "  <div id=\"df-d011cf6b-df06-4598-905c-c3f5cb965cf9\">\n",
              "    <div class=\"colab-df-container\">\n",
              "      <div>\n",
              "<style scoped>\n",
              "    .dataframe tbody tr th:only-of-type {\n",
              "        vertical-align: middle;\n",
              "    }\n",
              "\n",
              "    .dataframe tbody tr th {\n",
              "        vertical-align: top;\n",
              "    }\n",
              "\n",
              "    .dataframe thead th {\n",
              "        text-align: right;\n",
              "    }\n",
              "</style>\n",
              "<table border=\"1\" class=\"dataframe\">\n",
              "  <thead>\n",
              "    <tr style=\"text-align: right;\">\n",
              "      <th></th>\n",
              "      <th>EV_LEVEL_1</th>\n",
              "      <th>EV_LEVEL_2</th>\n",
              "      <th>EV_FAST</th>\n",
              "      <th>EV_TOTAL</th>\n",
              "      <th>NETWORK_TYPE_ChargePoint</th>\n",
              "      <th>NETWORK_TYPE_Non_Networked</th>\n",
              "      <th>NETWORK_TYPE_Other_Network</th>\n",
              "      <th>TOTAL_HOUSEHOLDS</th>\n",
              "      <th>MEDIAN_INCOME</th>\n",
              "      <th>REG_PREDICT</th>\n",
              "    </tr>\n",
              "    <tr>\n",
              "      <th>ZIP_CODE</th>\n",
              "      <th></th>\n",
              "      <th></th>\n",
              "      <th></th>\n",
              "      <th></th>\n",
              "      <th></th>\n",
              "      <th></th>\n",
              "      <th></th>\n",
              "      <th></th>\n",
              "      <th></th>\n",
              "      <th></th>\n",
              "    </tr>\n",
              "  </thead>\n",
              "  <tbody>\n",
              "    <tr>\n",
              "      <th>97914</th>\n",
              "      <td>-0.135267</td>\n",
              "      <td>-0.575926</td>\n",
              "      <td>1.637573</td>\n",
              "      <td>-0.581760</td>\n",
              "      <td>-0.419604</td>\n",
              "      <td>-0.472972</td>\n",
              "      <td>-0.196495</td>\n",
              "      <td>-0.388435</td>\n",
              "      <td>-1.007906</td>\n",
              "      <td>-0.528766</td>\n",
              "    </tr>\n",
              "    <tr>\n",
              "      <th>97138</th>\n",
              "      <td>-0.135267</td>\n",
              "      <td>-0.155594</td>\n",
              "      <td>1.637573</td>\n",
              "      <td>-0.171116</td>\n",
              "      <td>-0.212091</td>\n",
              "      <td>-0.472972</td>\n",
              "      <td>0.223267</td>\n",
              "      <td>-0.619259</td>\n",
              "      <td>-0.762614</td>\n",
              "      <td>-0.410243</td>\n",
              "    </tr>\n",
              "    <tr>\n",
              "      <th>55411</th>\n",
              "      <td>-0.135267</td>\n",
              "      <td>-0.365760</td>\n",
              "      <td>-0.447048</td>\n",
              "      <td>-0.376438</td>\n",
              "      <td>-0.004578</td>\n",
              "      <td>-0.472972</td>\n",
              "      <td>-0.616256</td>\n",
              "      <td>0.125221</td>\n",
              "      <td>-1.054176</td>\n",
              "      <td>-0.427996</td>\n",
              "    </tr>\n",
              "    <tr>\n",
              "      <th>97420</th>\n",
              "      <td>0.833758</td>\n",
              "      <td>-0.295705</td>\n",
              "      <td>-0.186470</td>\n",
              "      <td>-0.171116</td>\n",
              "      <td>-0.212091</td>\n",
              "      <td>0.883897</td>\n",
              "      <td>0.223267</td>\n",
              "      <td>0.441800</td>\n",
              "      <td>-0.765212</td>\n",
              "      <td>-0.128072</td>\n",
              "    </tr>\n",
              "    <tr>\n",
              "      <th>49426</th>\n",
              "      <td>-0.135267</td>\n",
              "      <td>-0.575926</td>\n",
              "      <td>2.419307</td>\n",
              "      <td>-0.581760</td>\n",
              "      <td>-0.212091</td>\n",
              "      <td>-0.472972</td>\n",
              "      <td>-0.196495</td>\n",
              "      <td>0.570653</td>\n",
              "      <td>0.402645</td>\n",
              "      <td>0.246269</td>\n",
              "    </tr>\n",
              "    <tr>\n",
              "      <th>...</th>\n",
              "      <td>...</td>\n",
              "      <td>...</td>\n",
              "      <td>...</td>\n",
              "      <td>...</td>\n",
              "      <td>...</td>\n",
              "      <td>...</td>\n",
              "      <td>...</td>\n",
              "      <td>...</td>\n",
              "      <td>...</td>\n",
              "      <td>...</td>\n",
              "    </tr>\n",
              "    <tr>\n",
              "      <th>10547</th>\n",
              "      <td>-0.135267</td>\n",
              "      <td>-0.435815</td>\n",
              "      <td>-0.447048</td>\n",
              "      <td>-0.444879</td>\n",
              "      <td>-0.212091</td>\n",
              "      <td>-0.472972</td>\n",
              "      <td>-0.616256</td>\n",
              "      <td>-0.889235</td>\n",
              "      <td>1.233822</td>\n",
              "      <td>0.084810</td>\n",
              "    </tr>\n",
              "    <tr>\n",
              "      <th>12723</th>\n",
              "      <td>-0.135267</td>\n",
              "      <td>-0.435815</td>\n",
              "      <td>-0.447048</td>\n",
              "      <td>-0.444879</td>\n",
              "      <td>-0.212091</td>\n",
              "      <td>-0.472972</td>\n",
              "      <td>-0.616256</td>\n",
              "      <td>-1.158042</td>\n",
              "      <td>-0.597398</td>\n",
              "      <td>-0.613477</td>\n",
              "    </tr>\n",
              "    <tr>\n",
              "      <th>97411</th>\n",
              "      <td>-0.135267</td>\n",
              "      <td>-0.155594</td>\n",
              "      <td>1.637573</td>\n",
              "      <td>-0.171116</td>\n",
              "      <td>-0.419604</td>\n",
              "      <td>0.205462</td>\n",
              "      <td>0.643028</td>\n",
              "      <td>-0.761551</td>\n",
              "      <td>-1.237182</td>\n",
              "      <td>-0.569994</td>\n",
              "    </tr>\n",
              "    <tr>\n",
              "      <th>98503</th>\n",
              "      <td>-0.135267</td>\n",
              "      <td>0.264737</td>\n",
              "      <td>2.679884</td>\n",
              "      <td>0.239529</td>\n",
              "      <td>0.202935</td>\n",
              "      <td>0.205462</td>\n",
              "      <td>0.223267</td>\n",
              "      <td>1.052315</td>\n",
              "      <td>-0.250918</td>\n",
              "      <td>0.228355</td>\n",
              "    </tr>\n",
              "    <tr>\n",
              "      <th>07405</th>\n",
              "      <td>-0.135267</td>\n",
              "      <td>-0.435815</td>\n",
              "      <td>-0.447048</td>\n",
              "      <td>-0.444879</td>\n",
              "      <td>-0.419604</td>\n",
              "      <td>0.883897</td>\n",
              "      <td>-0.616256</td>\n",
              "      <td>-0.323278</td>\n",
              "      <td>1.437678</td>\n",
              "      <td>0.250029</td>\n",
              "    </tr>\n",
              "  </tbody>\n",
              "</table>\n",
              "<p>823 rows × 10 columns</p>\n",
              "</div>\n",
              "      <button class=\"colab-df-convert\" onclick=\"convertToInteractive('df-d011cf6b-df06-4598-905c-c3f5cb965cf9')\"\n",
              "              title=\"Convert this dataframe to an interactive table.\"\n",
              "              style=\"display:none;\">\n",
              "        \n",
              "  <svg xmlns=\"http://www.w3.org/2000/svg\" height=\"24px\"viewBox=\"0 0 24 24\"\n",
              "       width=\"24px\">\n",
              "    <path d=\"M0 0h24v24H0V0z\" fill=\"none\"/>\n",
              "    <path d=\"M18.56 5.44l.94 2.06.94-2.06 2.06-.94-2.06-.94-.94-2.06-.94 2.06-2.06.94zm-11 1L8.5 8.5l.94-2.06 2.06-.94-2.06-.94L8.5 2.5l-.94 2.06-2.06.94zm10 10l.94 2.06.94-2.06 2.06-.94-2.06-.94-.94-2.06-.94 2.06-2.06.94z\"/><path d=\"M17.41 7.96l-1.37-1.37c-.4-.4-.92-.59-1.43-.59-.52 0-1.04.2-1.43.59L10.3 9.45l-7.72 7.72c-.78.78-.78 2.05 0 2.83L4 21.41c.39.39.9.59 1.41.59.51 0 1.02-.2 1.41-.59l7.78-7.78 2.81-2.81c.8-.78.8-2.07 0-2.86zM5.41 20L4 18.59l7.72-7.72 1.47 1.35L5.41 20z\"/>\n",
              "  </svg>\n",
              "      </button>\n",
              "      \n",
              "  <style>\n",
              "    .colab-df-container {\n",
              "      display:flex;\n",
              "      flex-wrap:wrap;\n",
              "      gap: 12px;\n",
              "    }\n",
              "\n",
              "    .colab-df-convert {\n",
              "      background-color: #E8F0FE;\n",
              "      border: none;\n",
              "      border-radius: 50%;\n",
              "      cursor: pointer;\n",
              "      display: none;\n",
              "      fill: #1967D2;\n",
              "      height: 32px;\n",
              "      padding: 0 0 0 0;\n",
              "      width: 32px;\n",
              "    }\n",
              "\n",
              "    .colab-df-convert:hover {\n",
              "      background-color: #E2EBFA;\n",
              "      box-shadow: 0px 1px 2px rgba(60, 64, 67, 0.3), 0px 1px 3px 1px rgba(60, 64, 67, 0.15);\n",
              "      fill: #174EA6;\n",
              "    }\n",
              "\n",
              "    [theme=dark] .colab-df-convert {\n",
              "      background-color: #3B4455;\n",
              "      fill: #D2E3FC;\n",
              "    }\n",
              "\n",
              "    [theme=dark] .colab-df-convert:hover {\n",
              "      background-color: #434B5C;\n",
              "      box-shadow: 0px 1px 3px 1px rgba(0, 0, 0, 0.15);\n",
              "      filter: drop-shadow(0px 1px 2px rgba(0, 0, 0, 0.3));\n",
              "      fill: #FFFFFF;\n",
              "    }\n",
              "  </style>\n",
              "\n",
              "      <script>\n",
              "        const buttonEl =\n",
              "          document.querySelector('#df-d011cf6b-df06-4598-905c-c3f5cb965cf9 button.colab-df-convert');\n",
              "        buttonEl.style.display =\n",
              "          google.colab.kernel.accessAllowed ? 'block' : 'none';\n",
              "\n",
              "        async function convertToInteractive(key) {\n",
              "          const element = document.querySelector('#df-d011cf6b-df06-4598-905c-c3f5cb965cf9');\n",
              "          const dataTable =\n",
              "            await google.colab.kernel.invokeFunction('convertToInteractive',\n",
              "                                                     [key], {});\n",
              "          if (!dataTable) return;\n",
              "\n",
              "          const docLinkHtml = 'Like what you see? Visit the ' +\n",
              "            '<a target=\"_blank\" href=https://colab.research.google.com/notebooks/data_table.ipynb>data table notebook</a>'\n",
              "            + ' to learn more about interactive tables.';\n",
              "          element.innerHTML = '';\n",
              "          dataTable['output_type'] = 'display_data';\n",
              "          await google.colab.output.renderOutput(dataTable, element);\n",
              "          const docLink = document.createElement('div');\n",
              "          docLink.innerHTML = docLinkHtml;\n",
              "          element.appendChild(docLink);\n",
              "        }\n",
              "      </script>\n",
              "    </div>\n",
              "  </div>\n",
              "  "
            ],
            "text/plain": [
              "          EV_LEVEL_1  EV_LEVEL_2  ...  MEDIAN_INCOME  REG_PREDICT\n",
              "ZIP_CODE                          ...                            \n",
              "97914      -0.135267   -0.575926  ...      -1.007906    -0.528766\n",
              "97138      -0.135267   -0.155594  ...      -0.762614    -0.410243\n",
              "55411      -0.135267   -0.365760  ...      -1.054176    -0.427996\n",
              "97420       0.833758   -0.295705  ...      -0.765212    -0.128072\n",
              "49426      -0.135267   -0.575926  ...       0.402645     0.246269\n",
              "...              ...         ...  ...            ...          ...\n",
              "10547      -0.135267   -0.435815  ...       1.233822     0.084810\n",
              "12723      -0.135267   -0.435815  ...      -0.597398    -0.613477\n",
              "97411      -0.135267   -0.155594  ...      -1.237182    -0.569994\n",
              "98503      -0.135267    0.264737  ...      -0.250918     0.228355\n",
              "07405      -0.135267   -0.435815  ...       1.437678     0.250029\n",
              "\n",
              "[823 rows x 10 columns]"
            ]
          },
          "metadata": {},
          "execution_count": 28
        }
      ]
    },
    {
      "cell_type": "code",
      "source": [
        "sns.set_palette('colorblind')\n",
        "sns.pairplot(data=ml_out_df,\n",
        "             y_vars=['REG_PREDICT'],\n",
        "             x_vars=['EV_LEVEL_1', 'EV_LEVEL_2', 'EV_FAST', 'EV_TOTAL',\n",
        "                    'NETWORK_TYPE_ChargePoint',\t'NETWORK_TYPE_Non_Networked',\t'NETWORK_TYPE_Other_Network',\n",
        "                    'TOTAL_HOUSEHOLDS',\t'MEDIAN_INCOME'],\n",
        "             height=3)"
      ],
      "metadata": {
        "colab": {
          "base_uri": "https://localhost:8080/",
          "height": 190
        },
        "id": "qnkQ9EtjReeU",
        "outputId": "f77cf49d-d463-4eaf-b22f-115b1423dd6b"
      },
      "execution_count": 29,
      "outputs": [
        {
          "output_type": "execute_result",
          "data": {
            "text/plain": [
              "<seaborn.axisgrid.PairGrid at 0x7f53587cb550>"
            ]
          },
          "metadata": {},
          "execution_count": 29
        },
        {
          "output_type": "display_data",
          "data": {
            "image/png": "[encoded data removed]",
            "text/plain": [
              "<Figure size 1944x216 with 9 Axes>"
            ]
          },
          "metadata": {
            "needs_background": "light"
          }
        }
      ]
    }
  ]
}